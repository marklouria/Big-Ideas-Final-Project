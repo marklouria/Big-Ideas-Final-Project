{
 "cells": [
  {
   "cell_type": "markdown",
   "metadata": {},
   "source": [
    "**Arndt Final Project Notebook**"
   ]
  },
  {
   "cell_type": "markdown",
   "metadata": {},
   "source": [
    "First, let's import pandas and our data file. The data file, \"Playground-Equipment.csv\", tells us about every piece of (recorded) playground equipment in Pittsburgh."
   ]
  },
  {
   "cell_type": "code",
   "execution_count": 1,
   "metadata": {},
   "outputs": [],
   "source": [
    "# load pandas\n",
    "import pandas as pd\n",
    "import numpy as np\n",
    "\n",
    "# load data\n",
    "playground_equipment = pd.read_csv(\"Playground-Equipment.csv\")"
   ]
  },
  {
   "cell_type": "markdown",
   "metadata": {},
   "source": [
    "Let's take a look at the first 10 rows of the data."
   ]
  },
  {
   "cell_type": "code",
   "execution_count": 2,
   "metadata": {},
   "outputs": [
    {
     "data": {
      "text/html": [
       "<div>\n",
       "<style scoped>\n",
       "    .dataframe tbody tr th:only-of-type {\n",
       "        vertical-align: middle;\n",
       "    }\n",
       "\n",
       "    .dataframe tbody tr th {\n",
       "        vertical-align: top;\n",
       "    }\n",
       "\n",
       "    .dataframe thead th {\n",
       "        text-align: right;\n",
       "    }\n",
       "</style>\n",
       "<table border=\"1\" class=\"dataframe\">\n",
       "  <thead>\n",
       "    <tr style=\"text-align: right;\">\n",
       "      <th></th>\n",
       "      <th>id</th>\n",
       "      <th>name</th>\n",
       "      <th>equipment_type</th>\n",
       "      <th>manufacturer</th>\n",
       "      <th>safety_surface_type</th>\n",
       "      <th>ada_accessible</th>\n",
       "      <th>street_number</th>\n",
       "      <th>street</th>\n",
       "      <th>neighborhood</th>\n",
       "      <th>council_district</th>\n",
       "      <th>ward</th>\n",
       "      <th>tract</th>\n",
       "      <th>public_works_division</th>\n",
       "      <th>pli_division</th>\n",
       "      <th>police_zone</th>\n",
       "      <th>fire_zone</th>\n",
       "      <th>latitude</th>\n",
       "      <th>longitude</th>\n",
       "    </tr>\n",
       "  </thead>\n",
       "  <tbody>\n",
       "    <tr>\n",
       "      <th>0</th>\n",
       "      <td>1780722587</td>\n",
       "      <td>Able Long Playground</td>\n",
       "      <td>Play Area 2 to 5</td>\n",
       "      <td>Little Tykes</td>\n",
       "      <td>Pour in Place</td>\n",
       "      <td>f</td>\n",
       "      <td>211.0</td>\n",
       "      <td>Coast Ave</td>\n",
       "      <td>Beechview</td>\n",
       "      <td>4</td>\n",
       "      <td>19</td>\n",
       "      <td>42003192000</td>\n",
       "      <td>5</td>\n",
       "      <td>19</td>\n",
       "      <td>6</td>\n",
       "      <td>4-28</td>\n",
       "      <td>40.408381</td>\n",
       "      <td>-80.028520</td>\n",
       "    </tr>\n",
       "    <tr>\n",
       "      <th>1</th>\n",
       "      <td>702514290</td>\n",
       "      <td>North Ave. Playground</td>\n",
       "      <td>Play Area 2 to 5</td>\n",
       "      <td>Playworld</td>\n",
       "      <td>SofSurfaces</td>\n",
       "      <td>f</td>\n",
       "      <td>377.0</td>\n",
       "      <td>W North Ave</td>\n",
       "      <td>Allegheny Center</td>\n",
       "      <td>1</td>\n",
       "      <td>22</td>\n",
       "      <td>42003562700</td>\n",
       "      <td>1</td>\n",
       "      <td>22</td>\n",
       "      <td>1</td>\n",
       "      <td>1-7</td>\n",
       "      <td>40.454526</td>\n",
       "      <td>-80.010188</td>\n",
       "    </tr>\n",
       "    <tr>\n",
       "      <th>2</th>\n",
       "      <td>1267038491</td>\n",
       "      <td>Vietnam Veteran's Playground</td>\n",
       "      <td>Slide</td>\n",
       "      <td>Little Tykes</td>\n",
       "      <td>SofSurfaces</td>\n",
       "      <td>f</td>\n",
       "      <td>108.0</td>\n",
       "      <td>Panther Hollow Rd</td>\n",
       "      <td>Squirrel Hill South</td>\n",
       "      <td>5</td>\n",
       "      <td>14</td>\n",
       "      <td>42003980500</td>\n",
       "      <td>3</td>\n",
       "      <td>14</td>\n",
       "      <td>4</td>\n",
       "      <td>2-8</td>\n",
       "      <td>40.434185</td>\n",
       "      <td>-79.944323</td>\n",
       "    </tr>\n",
       "    <tr>\n",
       "      <th>3</th>\n",
       "      <td>14898932</td>\n",
       "      <td>Schenley Overlook Playground</td>\n",
       "      <td>Swing 2 Bays</td>\n",
       "      <td>Little Tykes</td>\n",
       "      <td>SofSurfaces</td>\n",
       "      <td>t</td>\n",
       "      <td>NaN</td>\n",
       "      <td>Overlook Dr</td>\n",
       "      <td>Squirrel Hill South</td>\n",
       "      <td>5</td>\n",
       "      <td>14</td>\n",
       "      <td>42003980500</td>\n",
       "      <td>3</td>\n",
       "      <td>14</td>\n",
       "      <td>4</td>\n",
       "      <td>2-8</td>\n",
       "      <td>40.432130</td>\n",
       "      <td>-79.947774</td>\n",
       "    </tr>\n",
       "    <tr>\n",
       "      <th>4</th>\n",
       "      <td>204832406</td>\n",
       "      <td>Schenley Overlook Playground</td>\n",
       "      <td>Slide</td>\n",
       "      <td>Little Tykes</td>\n",
       "      <td>SofSurfaces</td>\n",
       "      <td>f</td>\n",
       "      <td>NaN</td>\n",
       "      <td>Overlook Dr</td>\n",
       "      <td>Squirrel Hill South</td>\n",
       "      <td>5</td>\n",
       "      <td>14</td>\n",
       "      <td>42003980500</td>\n",
       "      <td>3</td>\n",
       "      <td>14</td>\n",
       "      <td>4</td>\n",
       "      <td>2-8</td>\n",
       "      <td>40.432215</td>\n",
       "      <td>-79.947817</td>\n",
       "    </tr>\n",
       "    <tr>\n",
       "      <th>5</th>\n",
       "      <td>788191865</td>\n",
       "      <td>Chartiers Playground</td>\n",
       "      <td>Swing 2 Bays</td>\n",
       "      <td>Little Tykes</td>\n",
       "      <td>SofSurfaces</td>\n",
       "      <td>f</td>\n",
       "      <td>1550.0</td>\n",
       "      <td>Summerdale St</td>\n",
       "      <td>Windgap</td>\n",
       "      <td>2</td>\n",
       "      <td>28</td>\n",
       "      <td>42003563000</td>\n",
       "      <td>5</td>\n",
       "      <td>28</td>\n",
       "      <td>6</td>\n",
       "      <td>1-16</td>\n",
       "      <td>40.456812</td>\n",
       "      <td>-80.075131</td>\n",
       "    </tr>\n",
       "    <tr>\n",
       "      <th>6</th>\n",
       "      <td>1387089430</td>\n",
       "      <td>Chartiers Playground</td>\n",
       "      <td>Swing 2 Bays</td>\n",
       "      <td>Little Tykes</td>\n",
       "      <td>SofSurfaces</td>\n",
       "      <td>t</td>\n",
       "      <td>3783.0</td>\n",
       "      <td>Chartiers Ave</td>\n",
       "      <td>Windgap</td>\n",
       "      <td>2</td>\n",
       "      <td>28</td>\n",
       "      <td>42003563000</td>\n",
       "      <td>5</td>\n",
       "      <td>28</td>\n",
       "      <td>6</td>\n",
       "      <td>1-16</td>\n",
       "      <td>40.457218</td>\n",
       "      <td>-80.075070</td>\n",
       "    </tr>\n",
       "    <tr>\n",
       "      <th>7</th>\n",
       "      <td>1838217886</td>\n",
       "      <td>Chartiers Playground</td>\n",
       "      <td>Play Area 2 to 5</td>\n",
       "      <td>Little Tykes</td>\n",
       "      <td>SofSurfaces</td>\n",
       "      <td>f</td>\n",
       "      <td>3789.0</td>\n",
       "      <td>Chartiers Ave</td>\n",
       "      <td>Windgap</td>\n",
       "      <td>2</td>\n",
       "      <td>28</td>\n",
       "      <td>42003563000</td>\n",
       "      <td>5</td>\n",
       "      <td>28</td>\n",
       "      <td>6</td>\n",
       "      <td>1-16</td>\n",
       "      <td>40.457329</td>\n",
       "      <td>-80.075145</td>\n",
       "    </tr>\n",
       "    <tr>\n",
       "      <th>8</th>\n",
       "      <td>1315630398</td>\n",
       "      <td>Chartiers Playground</td>\n",
       "      <td>Play Area 5 to 12</td>\n",
       "      <td>Little Tykes</td>\n",
       "      <td>SofSurfaces</td>\n",
       "      <td>f</td>\n",
       "      <td>1544.0</td>\n",
       "      <td>Summerdale St</td>\n",
       "      <td>Windgap</td>\n",
       "      <td>2</td>\n",
       "      <td>28</td>\n",
       "      <td>42003563000</td>\n",
       "      <td>5</td>\n",
       "      <td>28</td>\n",
       "      <td>6</td>\n",
       "      <td>1-16</td>\n",
       "      <td>40.456681</td>\n",
       "      <td>-80.075019</td>\n",
       "    </tr>\n",
       "    <tr>\n",
       "      <th>9</th>\n",
       "      <td>1603952265</td>\n",
       "      <td>Chartiers Playground</td>\n",
       "      <td>Whirl</td>\n",
       "      <td>NaN</td>\n",
       "      <td>SofSurfaces</td>\n",
       "      <td>f</td>\n",
       "      <td>1548.0</td>\n",
       "      <td>Summerdale St</td>\n",
       "      <td>Windgap</td>\n",
       "      <td>2</td>\n",
       "      <td>28</td>\n",
       "      <td>42003563000</td>\n",
       "      <td>5</td>\n",
       "      <td>28</td>\n",
       "      <td>6</td>\n",
       "      <td>1-16</td>\n",
       "      <td>40.456970</td>\n",
       "      <td>-80.075110</td>\n",
       "    </tr>\n",
       "  </tbody>\n",
       "</table>\n",
       "</div>"
      ],
      "text/plain": [
       "           id                          name     equipment_type  manufacturer  \\\n",
       "0  1780722587          Able Long Playground   Play Area 2 to 5  Little Tykes   \n",
       "1   702514290         North Ave. Playground   Play Area 2 to 5     Playworld   \n",
       "2  1267038491  Vietnam Veteran's Playground              Slide  Little Tykes   \n",
       "3    14898932  Schenley Overlook Playground       Swing 2 Bays  Little Tykes   \n",
       "4   204832406  Schenley Overlook Playground              Slide  Little Tykes   \n",
       "5   788191865          Chartiers Playground       Swing 2 Bays  Little Tykes   \n",
       "6  1387089430          Chartiers Playground       Swing 2 Bays  Little Tykes   \n",
       "7  1838217886          Chartiers Playground   Play Area 2 to 5  Little Tykes   \n",
       "8  1315630398          Chartiers Playground  Play Area 5 to 12  Little Tykes   \n",
       "9  1603952265          Chartiers Playground              Whirl           NaN   \n",
       "\n",
       "  safety_surface_type ada_accessible  street_number             street  \\\n",
       "0       Pour in Place              f          211.0          Coast Ave   \n",
       "1         SofSurfaces              f          377.0        W North Ave   \n",
       "2         SofSurfaces              f          108.0  Panther Hollow Rd   \n",
       "3         SofSurfaces              t            NaN        Overlook Dr   \n",
       "4         SofSurfaces              f            NaN        Overlook Dr   \n",
       "5         SofSurfaces              f         1550.0      Summerdale St   \n",
       "6         SofSurfaces              t         3783.0      Chartiers Ave   \n",
       "7         SofSurfaces              f         3789.0      Chartiers Ave   \n",
       "8         SofSurfaces              f         1544.0      Summerdale St   \n",
       "9         SofSurfaces              f         1548.0      Summerdale St   \n",
       "\n",
       "          neighborhood  council_district  ward        tract  \\\n",
       "0            Beechview                 4    19  42003192000   \n",
       "1     Allegheny Center                 1    22  42003562700   \n",
       "2  Squirrel Hill South                 5    14  42003980500   \n",
       "3  Squirrel Hill South                 5    14  42003980500   \n",
       "4  Squirrel Hill South                 5    14  42003980500   \n",
       "5              Windgap                 2    28  42003563000   \n",
       "6              Windgap                 2    28  42003563000   \n",
       "7              Windgap                 2    28  42003563000   \n",
       "8              Windgap                 2    28  42003563000   \n",
       "9              Windgap                 2    28  42003563000   \n",
       "\n",
       "   public_works_division  pli_division  police_zone fire_zone   latitude  \\\n",
       "0                      5            19            6      4-28  40.408381   \n",
       "1                      1            22            1       1-7  40.454526   \n",
       "2                      3            14            4       2-8  40.434185   \n",
       "3                      3            14            4       2-8  40.432130   \n",
       "4                      3            14            4       2-8  40.432215   \n",
       "5                      5            28            6      1-16  40.456812   \n",
       "6                      5            28            6      1-16  40.457218   \n",
       "7                      5            28            6      1-16  40.457329   \n",
       "8                      5            28            6      1-16  40.456681   \n",
       "9                      5            28            6      1-16  40.456970   \n",
       "\n",
       "   longitude  \n",
       "0 -80.028520  \n",
       "1 -80.010188  \n",
       "2 -79.944323  \n",
       "3 -79.947774  \n",
       "4 -79.947817  \n",
       "5 -80.075131  \n",
       "6 -80.075070  \n",
       "7 -80.075145  \n",
       "8 -80.075019  \n",
       "9 -80.075110  "
      ]
     },
     "execution_count": 2,
     "metadata": {},
     "output_type": "execute_result"
    }
   ],
   "source": [
    "playground_equipment.head(10)"
   ]
  },
  {
   "cell_type": "markdown",
   "metadata": {},
   "source": [
    "How many pieces of playground equipment are in each neighborhood? We can use .value_counts() for that!"
   ]
  },
  {
   "cell_type": "code",
   "execution_count": 3,
   "metadata": {},
   "outputs": [
    {
     "data": {
      "text/plain": [
       "Squirrel Hill South    32\n",
       "East Liberty           26\n",
       "Beechview              21\n",
       "Allegheny Center       15\n",
       "South Side Slopes      14\n",
       "                       ..\n",
       "East Carnegie           2\n",
       "Central Oakland         2\n",
       "Lower Lawrenceville     2\n",
       "West Oakland            1\n",
       "Strip District          1\n",
       "Name: neighborhood, Length: 68, dtype: int64"
      ]
     },
     "execution_count": 3,
     "metadata": {},
     "output_type": "execute_result"
    }
   ],
   "source": [
    "playground_equipment[\"neighborhood\"].value_counts()"
   ]
  },
  {
   "cell_type": "markdown",
   "metadata": {},
   "source": [
    "Using the pure number of pieces of playground equipment as our metric, Squirrel Hill South is the best neighborhood. But what about other metrics, like disability accessibility and actual quality of equipment? Let's count the number of disability-accessible pieces of playground equipment in each neighborhood."
   ]
  },
  {
   "cell_type": "code",
   "execution_count": 4,
   "metadata": {},
   "outputs": [
    {
     "data": {
      "text/plain": [
       "Squirrel Hill South         7\n",
       "Elliott                     4\n",
       "East Liberty                4\n",
       "South Side Slopes           4\n",
       "Beechview                   4\n",
       "Highland Park               3\n",
       "Mount Washington            3\n",
       "Sheraden                    3\n",
       "Greenfield                  2\n",
       "Morningside                 2\n",
       "South Oakland               2\n",
       "South Side Flats            2\n",
       "Manchester                  2\n",
       "Crawford-Roberts            2\n",
       "Fineview                    2\n",
       "Beltzhoover                 2\n",
       "Hazelwood                   2\n",
       "Lincoln-Lemington-Belmar    2\n",
       "Bloomfield                  2\n",
       "Carrick                     2\n",
       "Brighton Heights            2\n",
       "New Homestead               1\n",
       "Upper Lawrenceville         1\n",
       "Squirrel Hill North         1\n",
       "Swisshelm Park              1\n",
       "Bedford Dwellings           1\n",
       "West End                    1\n",
       "Perry North                 1\n",
       "Troy Hill                   1\n",
       "Central Lawrenceville       1\n",
       "Upper Hill                  1\n",
       "Stanton Heights             1\n",
       "Homewood North              1\n",
       "Lower Lawrenceville         1\n",
       "Duquesne Heights            1\n",
       "Windgap                     1\n",
       "Point Breeze North          1\n",
       "Perry South                 1\n",
       "Bon Air                     1\n",
       "East Carnegie               1\n",
       "Oakwood                     1\n",
       "Banksville                  1\n",
       "Crafton Heights             1\n",
       "Lincoln Place               1\n",
       "Garfield                    1\n",
       "Allentown                   1\n",
       "Polish Hill                 1\n",
       "Spring Hill-City View       1\n",
       "Shadyside                   1\n",
       "Middle Hill                 1\n",
       "Allegheny Center            1\n",
       "Spring Garden               1\n",
       "Fairywood                   1\n",
       "Regent Square               1\n",
       "Marshall-Shadeland          1\n",
       "Bluff                       1\n",
       "Homewood West               1\n",
       "Terrace Village             1\n",
       "Name: neighborhood, dtype: int64"
      ]
     },
     "execution_count": 4,
     "metadata": {},
     "output_type": "execute_result"
    }
   ],
   "source": [
    "query_mask = playground_equipment[\"ada_accessible\"] == \"t\"\n",
    "disability_equipment = playground_equipment[query_mask]\n",
    "disability_equipment[\"neighborhood\"].value_counts()"
   ]
  },
  {
   "cell_type": "markdown",
   "metadata": {},
   "source": [
    "Once again, Squirrel Hill South comes out on top. The only ranking change among the top 5 is Allegheny Center, which drops way down, and Elliott, which ties East Liberty, Beechview, and South Side Slopes with 4 pieces of disability-accessible playground equipment."
   ]
  },
  {
   "cell_type": "markdown",
   "metadata": {},
   "source": [
    "Lastly, let's weight each piece of playground equipment based on its quality. To judge quality, we will use the \"manufacturer\" column. I have ranked the manufacturers based on a quick Google image search of some of their equipment. This ranking is somewhat arbitrary, but I did my best to give a detailed and thorough analysis of each.\n",
    "\n",
    "First, let's print out all the unique types of manufacturers."
   ]
  },
  {
   "cell_type": "code",
   "execution_count": 5,
   "metadata": {},
   "outputs": [
    {
     "data": {
      "text/plain": [
       "array(['Little Tykes', 'Playworld', nan, 'Gametime', 'Miracle',\n",
       "       'Park Structures', 'Landscape Structures', 'Iron Mountain Forge',\n",
       "       'Burke', 'Big Toys', 'Kompan'], dtype=object)"
      ]
     },
     "execution_count": 5,
     "metadata": {},
     "output_type": "execute_result"
    }
   ],
   "source": [
    "playground_equipment[\"manufacturer\"].unique()"
   ]
  },
  {
   "cell_type": "markdown",
   "metadata": {},
   "source": [
    "Here are my totally not arbitrary rankings:\n",
    "1. Kompan (WTF is this an amusement park?) ![Kompan](https://dk22sb66g7qaa.cloudfront.net/aesir-dam-viewports/castle-and-nature-playground-made-from-robinia-1366.jpeg?rel=2020-12-15+10%3A49%3A27)\n",
    "2. Burke (big and well-developed) ![Burke](https://www.bciburke.com/Portals/0/adam/Products%20Slider/NrWfuy30tkiBvIXviywlwQ/Image/field-of-dreams.jpg)\n",
    "3. Landscape Structures (futuristic, would definitely play on it) ![Landscape](https://www.rossrec.com/wp-content/uploads/bfi_thumb/Hedra-playsystem-1-ojo8m76h9u248v59brz47n5r3kub5gv3acjmf2z6co.jpg)\n",
    "4. Playworld (big slide) ![Playworld](https://playworld.com/sites/default/files/refresh-intro-image.jpg)\n",
    "5. Little Tykes (car is cheap, fuel-efficient, and environmentally friendly) ![Little Tykes](https://m.media-amazon.com/images/I/71VEtPLgBxL._AC_SL1500_.jpg)\n",
    "6. Park Structures (bland color scheme, but cool slide) ![Park Structures](https://www.miracle-recreation.com/content/uploads/2018/09/MREC_2018_OH_Westfork-Park_Structure-301.jpg)\n",
    "7. Miracle (fairly standard, nothing exceptional) ![Miracle](https://hasley-recreation.com/wp-content/uploads/Destination-Park-Loganville-Georgia-Playground-Miracle-1024x682.jpg)\n",
    "8. Gametime (terrible color scheme, but cool slide) ![Gametime](https://www.gametime.com/images/sized/GameTime-Playground-Tower-Rendering-18861-1621263048-3ecff71e66a3f640cb051d8d5d39bc69.jpg)\n",
    "9. Iron Mountain Forge (lame) ![Iron Mountain Forge](https://ww1.prweb.com/prfiles/2011/04/21/8334129/green.jpg)\n",
    "10. Big Toys (lame and too much exercise) ![Big Toys](https://www.bigtoys.com/images/homepage/category-traditionalstructures-img1.jpg)"
   ]
  },
  {
   "cell_type": "markdown",
   "metadata": {},
   "source": [
    "I've created a point system based upon the rankings of the slides. Rank k gets 11 - k points. For example, Rank 1 gets 10 points, Rank 5 gets 6 points, and Rank 10 gets 1 point. With this points system in mind, I've calculated the total number of points for each neighborhood in the code block below."
   ]
  },
  {
   "cell_type": "code",
   "execution_count": 6,
   "metadata": {},
   "outputs": [
    {
     "name": "stdout",
     "output_type": "stream",
     "text": [
      "East Liberty           232\n",
      "Squirrel Hill South    141\n",
      "Beechview              135\n",
      "Allegheny Center        91\n",
      "Hazelwood               83\n",
      "                      ... \n",
      "Allentown               12\n",
      "East Allegheny           7\n",
      "West Oakland             7\n",
      "Strip District           6\n",
      "Hays                     4\n",
      "Length: 68, dtype: int64\n"
     ]
    }
   ],
   "source": [
    "equipment_types = [\"Kompan\", \"Burke\", \"Landscape Structures\", \"Playworld\", \"Little Tykes\", \"Park Structures\", \"Miracle\", \"Gametime\", \"Iron Mountain Forge\", \"Big Toys\"]\n",
    "\n",
    "points = {}\n",
    "for i in range(10):\n",
    "    type = equipment_types[i];\n",
    "    query_mask = playground_equipment[\"manufacturer\"] == type\n",
    "    equipment_of_type = playground_equipment[query_mask];\n",
    "    seen_nbhds = {}\n",
    "    for nbhd in equipment_of_type[\"neighborhood\"]:\n",
    "        if nbhd in seen_nbhds:\n",
    "            continue\n",
    "        seen_nbhds[nbhd] = 1;\n",
    "        num_of_type = equipment_of_type[\"neighborhood\"].value_counts().get(nbhd)\n",
    "        if not num_of_type:\n",
    "            continue\n",
    "        addition = (10 - i) * num_of_type\n",
    "        if nbhd in points:\n",
    "            points[nbhd] += addition\n",
    "        else:\n",
    "            points[nbhd] = addition\n",
    "ser = pd.Series(points)\n",
    "ser = ser.sort_values(ascending=False)\n",
    "print(ser)"
   ]
  },
  {
   "cell_type": "markdown",
   "metadata": {},
   "source": [
    "This data makes sense, as the rankings are largely the same. However, East Liberty is the sole owner of Kompan equipment, which is marked as the highest rated at 10 points each. This explains why East Liberty wins with a large margin on this sub-metric."
   ]
  },
  {
   "cell_type": "code",
   "execution_count": 7,
   "metadata": {},
   "outputs": [
    {
     "data": {
      "text/plain": [
       "East Liberty    18\n",
       "Name: neighborhood, dtype: int64"
      ]
     },
     "execution_count": 7,
     "metadata": {},
     "output_type": "execute_result"
    }
   ],
   "source": [
    "query_mask = playground_equipment[\"manufacturer\"] == \"Kompan\"\n",
    "kompan_equipment = playground_equipment[query_mask]\n",
    "kompan_equipment[\"neighborhood\"].value_counts()"
   ]
  },
  {
   "cell_type": "markdown",
   "metadata": {},
   "source": [
    "Now, let's combine all three sub-metrics: total count, disability accessibility, and the weighted point system. To do so, let's normalize each metric and sum them for each neighborhood."
   ]
  },
  {
   "cell_type": "code",
   "execution_count": 8,
   "metadata": {},
   "outputs": [
    {
     "name": "stdout",
     "output_type": "stream",
     "text": [
      "Squirrel Hill South    0.199659\n",
      "East Liberty           0.189489\n",
      "Beechview              0.141060\n",
      "South Side Slopes      0.105008\n",
      "Elliott                0.096349\n",
      "                         ...   \n",
      "Esplen                 0.009862\n",
      "East Allegheny         0.009426\n",
      "Hays                   0.008275\n",
      "West Oakland           0.004931\n",
      "Strip District         0.004548\n",
      "Length: 68, dtype: float64\n"
     ]
    }
   ],
   "source": [
    "totals = {}\n",
    "\n",
    "total_pge = playground_equipment[\"neighborhood\"].value_counts().sum()\n",
    "total_de = disability_equipment[\"neighborhood\"].value_counts().sum()\n",
    "total_wps = ser.sum()\n",
    "for nbhd in playground_equipment[\"neighborhood\"]:\n",
    "    if nbhd in totals:\n",
    "        continue\n",
    "    pge_count = playground_equipment[\"neighborhood\"].value_counts().get(nbhd)\n",
    "    de_count = disability_equipment[\"neighborhood\"].value_counts().get(nbhd)\n",
    "    wps_count = ser.get(nbhd)\n",
    "    if not pge_count:\n",
    "        pge_count = 0\n",
    "    if not de_count:\n",
    "        de_count = 0\n",
    "    if not wps_count:\n",
    "        wps_count = 0\n",
    "    totals[nbhd] = pge_count / total_pge + de_count / total_de + wps_count / total_wps \n",
    "totals_series = pd.Series(totals)\n",
    "totals_series = totals_series.sort_values(ascending=False)\n",
    "print(totals_series)"
   ]
  },
  {
   "cell_type": "markdown",
   "metadata": {},
   "source": [
    "As expected, Squirrel Hill South comes out on top with the most equipment in total, the most disability-accessible equipment, and the second-highest quality rating. East Liberty is a close second, but most of its boost came from the ranking system, which is kind of arbitrary. Let's make a bar chart of the top 5 neighborhoods judged by our final normalized, combined metric."
   ]
  },
  {
   "cell_type": "code",
   "execution_count": 13,
   "metadata": {},
   "outputs": [
    {
     "data": {
      "text/plain": [
       "<matplotlib.axes._subplots.AxesSubplot at 0x7f47edf02820>"
      ]
     },
     "execution_count": 13,
     "metadata": {},
     "output_type": "execute_result"
    },
    {
     "data": {
      "image/png": "[encoded data removed]",
      "text/plain": [
       "<Figure size 432x288 with 1 Axes>"
      ]
     },
     "metadata": {
      "needs_background": "light"
     },
     "output_type": "display_data"
    }
   ],
   "source": [
    "# Create a bar chart using the index as the category labels\n",
    "pd.Series(totals_series.head(5)).plot.bar()"
   ]
  },
  {
   "cell_type": "markdown",
   "metadata": {},
   "source": [
    "And, let's take a look at the top 10."
   ]
  },
  {
   "cell_type": "code",
   "execution_count": 15,
   "metadata": {},
   "outputs": [
    {
     "data": {
      "text/plain": [
       "<matplotlib.axes._subplots.AxesSubplot at 0x7f47ede37b50>"
      ]
     },
     "execution_count": 15,
     "metadata": {},
     "output_type": "execute_result"
    },
    {
     "data": {
      "image/png": "[encoded data removed]",
      "text/plain": [
       "<Figure size 432x288 with 1 Axes>"
      ]
     },
     "metadata": {
      "needs_background": "light"
     },
     "output_type": "display_data"
    }
   ],
   "source": [
    "# Create a bar chart using the index as the category labels\n",
    "pd.Series(totals_series.head(10)).plot.bar()"
   ]
  },
  {
   "cell_type": "markdown",
   "metadata": {},
   "source": [
    "With all of this data in mind, **Squirrel Hill South** is the best neighborhood for playground equipment!"
   ]
  },
  {
   "cell_type": "code",
   "execution_count": null,
   "metadata": {},
   "outputs": [],
   "source": []
  }
 ],
 "metadata": {
  "kernelspec": {
   "display_name": "Python 3",
   "language": "python",
   "name": "python3"
  },
  "language_info": {
   "codemirror_mode": {
    "name": "ipython",
    "version": 3
   },
   "file_extension": ".py",
   "mimetype": "text/x-python",
   "name": "python",
   "nbconvert_exporter": "python",
   "pygments_lexer": "ipython3",
   "version": "3.8.3"
  }
 },
 "nbformat": 4,
 "nbformat_minor": 4
}
