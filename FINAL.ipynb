{
 "cells": [
  {
   "cell_type": "markdown",
   "metadata": {},
   "source": [
    "# Group 29: Final Project"
   ]
  },
  {
   "cell_type": "markdown",
   "metadata": {},
   "source": [
    "We researched the best neighborhood in Pittsburgh with the metric of what is the safest neighborhood in Pittsburgh for kids. The three of us used fire incidents, speed humps, and playground equipment as the metric of the study. We found that from all areas, Squirrel Hill South was at or near the top for all the categories. From this, we made the conclusion that Squirrel Hill South is the safest neighborhood for kids in Pittsburgh."
   ]
  },
  {
   "cell_type": "markdown",
   "metadata": {},
   "source": [
    "## Playground Equipment"
   ]
  },
  {
   "cell_type": "markdown",
   "metadata": {},
   "source": [
    "First, let's import pandas and our data file. The data file, \"Playground-Equipment.csv\", tells us about every piece of (recorded) playground equipment in Pittsburgh."
   ]
  },
  {
   "cell_type": "code",
   "execution_count": 1,
   "metadata": {},
   "outputs": [],
   "source": [
    "# load pandas\n",
    "import pandas as pd\n",
    "import numpy as np\n",
    "\n",
    "# load data\n",
    "playground_equipment = pd.read_csv(\"Playground-Equipment.csv\")"
   ]
  },
  {
   "cell_type": "markdown",
   "metadata": {},
   "source": [
    "Let's take a look at the first 10 rows of the data."
   ]
  },
  {
   "cell_type": "code",
   "execution_count": 2,
   "metadata": {},
   "outputs": [
    {
     "data": {
      "text/html": [
       "<div>\n",
       "<style scoped>\n",
       "    .dataframe tbody tr th:only-of-type {\n",
       "        vertical-align: middle;\n",
       "    }\n",
       "\n",
       "    .dataframe tbody tr th {\n",
       "        vertical-align: top;\n",
       "    }\n",
       "\n",
       "    .dataframe thead th {\n",
       "        text-align: right;\n",
       "    }\n",
       "</style>\n",
       "<table border=\"1\" class=\"dataframe\">\n",
       "  <thead>\n",
       "    <tr style=\"text-align: right;\">\n",
       "      <th></th>\n",
       "      <th>id</th>\n",
       "      <th>name</th>\n",
       "      <th>equipment_type</th>\n",
       "      <th>manufacturer</th>\n",
       "      <th>safety_surface_type</th>\n",
       "      <th>ada_accessible</th>\n",
       "      <th>street_number</th>\n",
       "      <th>street</th>\n",
       "      <th>neighborhood</th>\n",
       "      <th>council_district</th>\n",
       "      <th>ward</th>\n",
       "      <th>tract</th>\n",
       "      <th>public_works_division</th>\n",
       "      <th>pli_division</th>\n",
       "      <th>police_zone</th>\n",
       "      <th>fire_zone</th>\n",
       "      <th>latitude</th>\n",
       "      <th>longitude</th>\n",
       "    </tr>\n",
       "  </thead>\n",
       "  <tbody>\n",
       "    <tr>\n",
       "      <th>0</th>\n",
       "      <td>1780722587</td>\n",
       "      <td>Able Long Playground</td>\n",
       "      <td>Play Area 2 to 5</td>\n",
       "      <td>Little Tykes</td>\n",
       "      <td>Pour in Place</td>\n",
       "      <td>f</td>\n",
       "      <td>211.0</td>\n",
       "      <td>Coast Ave</td>\n",
       "      <td>Beechview</td>\n",
       "      <td>4</td>\n",
       "      <td>19</td>\n",
       "      <td>42003192000</td>\n",
       "      <td>5</td>\n",
       "      <td>19</td>\n",
       "      <td>6</td>\n",
       "      <td>4-28</td>\n",
       "      <td>40.408381</td>\n",
       "      <td>-80.028520</td>\n",
       "    </tr>\n",
       "    <tr>\n",
       "      <th>1</th>\n",
       "      <td>702514290</td>\n",
       "      <td>North Ave. Playground</td>\n",
       "      <td>Play Area 2 to 5</td>\n",
       "      <td>Playworld</td>\n",
       "      <td>SofSurfaces</td>\n",
       "      <td>f</td>\n",
       "      <td>377.0</td>\n",
       "      <td>W North Ave</td>\n",
       "      <td>Allegheny Center</td>\n",
       "      <td>1</td>\n",
       "      <td>22</td>\n",
       "      <td>42003562700</td>\n",
       "      <td>1</td>\n",
       "      <td>22</td>\n",
       "      <td>1</td>\n",
       "      <td>1-7</td>\n",
       "      <td>40.454526</td>\n",
       "      <td>-80.010188</td>\n",
       "    </tr>\n",
       "    <tr>\n",
       "      <th>2</th>\n",
       "      <td>1267038491</td>\n",
       "      <td>Vietnam Veteran's Playground</td>\n",
       "      <td>Slide</td>\n",
       "      <td>Little Tykes</td>\n",
       "      <td>SofSurfaces</td>\n",
       "      <td>f</td>\n",
       "      <td>108.0</td>\n",
       "      <td>Panther Hollow Rd</td>\n",
       "      <td>Squirrel Hill South</td>\n",
       "      <td>5</td>\n",
       "      <td>14</td>\n",
       "      <td>42003980500</td>\n",
       "      <td>3</td>\n",
       "      <td>14</td>\n",
       "      <td>4</td>\n",
       "      <td>2-8</td>\n",
       "      <td>40.434185</td>\n",
       "      <td>-79.944323</td>\n",
       "    </tr>\n",
       "    <tr>\n",
       "      <th>3</th>\n",
       "      <td>14898932</td>\n",
       "      <td>Schenley Overlook Playground</td>\n",
       "      <td>Swing 2 Bays</td>\n",
       "      <td>Little Tykes</td>\n",
       "      <td>SofSurfaces</td>\n",
       "      <td>t</td>\n",
       "      <td>NaN</td>\n",
       "      <td>Overlook Dr</td>\n",
       "      <td>Squirrel Hill South</td>\n",
       "      <td>5</td>\n",
       "      <td>14</td>\n",
       "      <td>42003980500</td>\n",
       "      <td>3</td>\n",
       "      <td>14</td>\n",
       "      <td>4</td>\n",
       "      <td>2-8</td>\n",
       "      <td>40.432130</td>\n",
       "      <td>-79.947774</td>\n",
       "    </tr>\n",
       "    <tr>\n",
       "      <th>4</th>\n",
       "      <td>204832406</td>\n",
       "      <td>Schenley Overlook Playground</td>\n",
       "      <td>Slide</td>\n",
       "      <td>Little Tykes</td>\n",
       "      <td>SofSurfaces</td>\n",
       "      <td>f</td>\n",
       "      <td>NaN</td>\n",
       "      <td>Overlook Dr</td>\n",
       "      <td>Squirrel Hill South</td>\n",
       "      <td>5</td>\n",
       "      <td>14</td>\n",
       "      <td>42003980500</td>\n",
       "      <td>3</td>\n",
       "      <td>14</td>\n",
       "      <td>4</td>\n",
       "      <td>2-8</td>\n",
       "      <td>40.432215</td>\n",
       "      <td>-79.947817</td>\n",
       "    </tr>\n",
       "    <tr>\n",
       "      <th>5</th>\n",
       "      <td>788191865</td>\n",
       "      <td>Chartiers Playground</td>\n",
       "      <td>Swing 2 Bays</td>\n",
       "      <td>Little Tykes</td>\n",
       "      <td>SofSurfaces</td>\n",
       "      <td>f</td>\n",
       "      <td>1550.0</td>\n",
       "      <td>Summerdale St</td>\n",
       "      <td>Windgap</td>\n",
       "      <td>2</td>\n",
       "      <td>28</td>\n",
       "      <td>42003563000</td>\n",
       "      <td>5</td>\n",
       "      <td>28</td>\n",
       "      <td>6</td>\n",
       "      <td>1-16</td>\n",
       "      <td>40.456812</td>\n",
       "      <td>-80.075131</td>\n",
       "    </tr>\n",
       "    <tr>\n",
       "      <th>6</th>\n",
       "      <td>1387089430</td>\n",
       "      <td>Chartiers Playground</td>\n",
       "      <td>Swing 2 Bays</td>\n",
       "      <td>Little Tykes</td>\n",
       "      <td>SofSurfaces</td>\n",
       "      <td>t</td>\n",
       "      <td>3783.0</td>\n",
       "      <td>Chartiers Ave</td>\n",
       "      <td>Windgap</td>\n",
       "      <td>2</td>\n",
       "      <td>28</td>\n",
       "      <td>42003563000</td>\n",
       "      <td>5</td>\n",
       "      <td>28</td>\n",
       "      <td>6</td>\n",
       "      <td>1-16</td>\n",
       "      <td>40.457218</td>\n",
       "      <td>-80.075070</td>\n",
       "    </tr>\n",
       "    <tr>\n",
       "      <th>7</th>\n",
       "      <td>1838217886</td>\n",
       "      <td>Chartiers Playground</td>\n",
       "      <td>Play Area 2 to 5</td>\n",
       "      <td>Little Tykes</td>\n",
       "      <td>SofSurfaces</td>\n",
       "      <td>f</td>\n",
       "      <td>3789.0</td>\n",
       "      <td>Chartiers Ave</td>\n",
       "      <td>Windgap</td>\n",
       "      <td>2</td>\n",
       "      <td>28</td>\n",
       "      <td>42003563000</td>\n",
       "      <td>5</td>\n",
       "      <td>28</td>\n",
       "      <td>6</td>\n",
       "      <td>1-16</td>\n",
       "      <td>40.457329</td>\n",
       "      <td>-80.075145</td>\n",
       "    </tr>\n",
       "    <tr>\n",
       "      <th>8</th>\n",
       "      <td>1315630398</td>\n",
       "      <td>Chartiers Playground</td>\n",
       "      <td>Play Area 5 to 12</td>\n",
       "      <td>Little Tykes</td>\n",
       "      <td>SofSurfaces</td>\n",
       "      <td>f</td>\n",
       "      <td>1544.0</td>\n",
       "      <td>Summerdale St</td>\n",
       "      <td>Windgap</td>\n",
       "      <td>2</td>\n",
       "      <td>28</td>\n",
       "      <td>42003563000</td>\n",
       "      <td>5</td>\n",
       "      <td>28</td>\n",
       "      <td>6</td>\n",
       "      <td>1-16</td>\n",
       "      <td>40.456681</td>\n",
       "      <td>-80.075019</td>\n",
       "    </tr>\n",
       "    <tr>\n",
       "      <th>9</th>\n",
       "      <td>1603952265</td>\n",
       "      <td>Chartiers Playground</td>\n",
       "      <td>Whirl</td>\n",
       "      <td>NaN</td>\n",
       "      <td>SofSurfaces</td>\n",
       "      <td>f</td>\n",
       "      <td>1548.0</td>\n",
       "      <td>Summerdale St</td>\n",
       "      <td>Windgap</td>\n",
       "      <td>2</td>\n",
       "      <td>28</td>\n",
       "      <td>42003563000</td>\n",
       "      <td>5</td>\n",
       "      <td>28</td>\n",
       "      <td>6</td>\n",
       "      <td>1-16</td>\n",
       "      <td>40.456970</td>\n",
       "      <td>-80.075110</td>\n",
       "    </tr>\n",
       "  </tbody>\n",
       "</table>\n",
       "</div>"
      ],
      "text/plain": [
       "           id                          name     equipment_type  manufacturer  \\\n",
       "0  1780722587          Able Long Playground   Play Area 2 to 5  Little Tykes   \n",
       "1   702514290         North Ave. Playground   Play Area 2 to 5     Playworld   \n",
       "2  1267038491  Vietnam Veteran's Playground              Slide  Little Tykes   \n",
       "3    14898932  Schenley Overlook Playground       Swing 2 Bays  Little Tykes   \n",
       "4   204832406  Schenley Overlook Playground              Slide  Little Tykes   \n",
       "5   788191865          Chartiers Playground       Swing 2 Bays  Little Tykes   \n",
       "6  1387089430          Chartiers Playground       Swing 2 Bays  Little Tykes   \n",
       "7  1838217886          Chartiers Playground   Play Area 2 to 5  Little Tykes   \n",
       "8  1315630398          Chartiers Playground  Play Area 5 to 12  Little Tykes   \n",
       "9  1603952265          Chartiers Playground              Whirl           NaN   \n",
       "\n",
       "  safety_surface_type ada_accessible  street_number             street  \\\n",
       "0       Pour in Place              f          211.0          Coast Ave   \n",
       "1         SofSurfaces              f          377.0        W North Ave   \n",
       "2         SofSurfaces              f          108.0  Panther Hollow Rd   \n",
       "3         SofSurfaces              t            NaN        Overlook Dr   \n",
       "4         SofSurfaces              f            NaN        Overlook Dr   \n",
       "5         SofSurfaces              f         1550.0      Summerdale St   \n",
       "6         SofSurfaces              t         3783.0      Chartiers Ave   \n",
       "7         SofSurfaces              f         3789.0      Chartiers Ave   \n",
       "8         SofSurfaces              f         1544.0      Summerdale St   \n",
       "9         SofSurfaces              f         1548.0      Summerdale St   \n",
       "\n",
       "          neighborhood  council_district  ward        tract  \\\n",
       "0            Beechview                 4    19  42003192000   \n",
       "1     Allegheny Center                 1    22  42003562700   \n",
       "2  Squirrel Hill South                 5    14  42003980500   \n",
       "3  Squirrel Hill South                 5    14  42003980500   \n",
       "4  Squirrel Hill South                 5    14  42003980500   \n",
       "5              Windgap                 2    28  42003563000   \n",
       "6              Windgap                 2    28  42003563000   \n",
       "7              Windgap                 2    28  42003563000   \n",
       "8              Windgap                 2    28  42003563000   \n",
       "9              Windgap                 2    28  42003563000   \n",
       "\n",
       "   public_works_division  pli_division  police_zone fire_zone   latitude  \\\n",
       "0                      5            19            6      4-28  40.408381   \n",
       "1                      1            22            1       1-7  40.454526   \n",
       "2                      3            14            4       2-8  40.434185   \n",
       "3                      3            14            4       2-8  40.432130   \n",
       "4                      3            14            4       2-8  40.432215   \n",
       "5                      5            28            6      1-16  40.456812   \n",
       "6                      5            28            6      1-16  40.457218   \n",
       "7                      5            28            6      1-16  40.457329   \n",
       "8                      5            28            6      1-16  40.456681   \n",
       "9                      5            28            6      1-16  40.456970   \n",
       "\n",
       "   longitude  \n",
       "0 -80.028520  \n",
       "1 -80.010188  \n",
       "2 -79.944323  \n",
       "3 -79.947774  \n",
       "4 -79.947817  \n",
       "5 -80.075131  \n",
       "6 -80.075070  \n",
       "7 -80.075145  \n",
       "8 -80.075019  \n",
       "9 -80.075110  "
      ]
     },
     "execution_count": 2,
     "metadata": {},
     "output_type": "execute_result"
    }
   ],
   "source": [
    "playground_equipment.head(10)"
   ]
  },
  {
   "cell_type": "markdown",
   "metadata": {},
   "source": [
    "How many pieces of playground equipment are in each neighborhood? We can use .value_counts() for that!"
   ]
  },
  {
   "cell_type": "code",
   "execution_count": 3,
   "metadata": {},
   "outputs": [
    {
     "data": {
      "text/plain": [
       "Squirrel Hill South    32\n",
       "East Liberty           26\n",
       "Beechview              21\n",
       "Allegheny Center       15\n",
       "South Side Slopes      14\n",
       "                       ..\n",
       "Central Oakland         2\n",
       "Lower Lawrenceville     2\n",
       "Westwood                2\n",
       "Strip District          1\n",
       "West Oakland            1\n",
       "Name: neighborhood, Length: 68, dtype: int64"
      ]
     },
     "execution_count": 3,
     "metadata": {},
     "output_type": "execute_result"
    }
   ],
   "source": [
    "playground_equipment[\"neighborhood\"].value_counts()"
   ]
  },
  {
   "cell_type": "markdown",
   "metadata": {},
   "source": [
    "Using the pure number of pieces of playground equipment as our metric, Squirrel Hill South is the best neighborhood. But what about other metrics, like disability accessibility and actual quality of equipment? Let's count the number of disability-accessible pieces of playground equipment in each neighborhood."
   ]
  },
  {
   "cell_type": "code",
   "execution_count": 4,
   "metadata": {},
   "outputs": [
    {
     "data": {
      "text/plain": [
       "Squirrel Hill South         7\n",
       "Elliott                     4\n",
       "East Liberty                4\n",
       "Beechview                   4\n",
       "South Side Slopes           4\n",
       "Mount Washington            3\n",
       "Sheraden                    3\n",
       "Highland Park               3\n",
       "Morningside                 2\n",
       "South Side Flats            2\n",
       "Lincoln-Lemington-Belmar    2\n",
       "Hazelwood                   2\n",
       "Crawford-Roberts            2\n",
       "Beltzhoover                 2\n",
       "Brighton Heights            2\n",
       "Greenfield                  2\n",
       "South Oakland               2\n",
       "Carrick                     2\n",
       "Fineview                    2\n",
       "Bloomfield                  2\n",
       "Manchester                  2\n",
       "West End                    1\n",
       "Homewood West               1\n",
       "Polish Hill                 1\n",
       "Spring Garden               1\n",
       "Allentown                   1\n",
       "Duquesne Heights            1\n",
       "Spring Hill-City View       1\n",
       "Lincoln Place               1\n",
       "Upper Hill                  1\n",
       "Upper Lawrenceville         1\n",
       "Squirrel Hill North         1\n",
       "Shadyside                   1\n",
       "Homewood North              1\n",
       "East Carnegie               1\n",
       "Regent Square               1\n",
       "Terrace Village             1\n",
       "Fairywood                   1\n",
       "Central Lawrenceville       1\n",
       "Windgap                     1\n",
       "Garfield                    1\n",
       "New Homestead               1\n",
       "Marshall-Shadeland          1\n",
       "Bon Air                     1\n",
       "Bedford Dwellings           1\n",
       "Banksville                  1\n",
       "Stanton Heights             1\n",
       "Perry North                 1\n",
       "Middle Hill                 1\n",
       "Lower Lawrenceville         1\n",
       "Troy Hill                   1\n",
       "Swisshelm Park              1\n",
       "Point Breeze North          1\n",
       "Allegheny Center            1\n",
       "Bluff                       1\n",
       "Perry South                 1\n",
       "Oakwood                     1\n",
       "Crafton Heights             1\n",
       "Name: neighborhood, dtype: int64"
      ]
     },
     "execution_count": 4,
     "metadata": {},
     "output_type": "execute_result"
    }
   ],
   "source": [
    "query_mask = playground_equipment[\"ada_accessible\"] == \"t\"\n",
    "disability_equipment = playground_equipment[query_mask]\n",
    "disability_equipment[\"neighborhood\"].value_counts()"
   ]
  },
  {
   "cell_type": "markdown",
   "metadata": {},
   "source": [
    "Once again, Squirrel Hill South comes out on top. The only ranking change among the top 5 is Allegheny Center, which drops way down, and Elliott, which ties East Liberty, Beechview, and South Side Slopes with 4 pieces of disability-accessible playground equipment."
   ]
  },
  {
   "cell_type": "markdown",
   "metadata": {},
   "source": [
    "Lastly, let's weight each piece of playground equipment based on its quality. To judge quality, we will use the \"manufacturer\" column. I have ranked the manufacturers based on a quick Google image search of some of their equipment. This ranking is somewhat arbitrary, but I did my best to give an incredibly *detailed* and *thorough* analysis of each (not).\n",
    "\n",
    "First, let's print out all the unique types of manufacturers."
   ]
  },
  {
   "cell_type": "code",
   "execution_count": 5,
   "metadata": {},
   "outputs": [
    {
     "data": {
      "text/plain": [
       "array(['Little Tykes', 'Playworld', nan, 'Gametime', 'Miracle',\n",
       "       'Park Structures', 'Landscape Structures', 'Iron Mountain Forge',\n",
       "       'Burke', 'Big Toys', 'Kompan'], dtype=object)"
      ]
     },
     "execution_count": 5,
     "metadata": {},
     "output_type": "execute_result"
    }
   ],
   "source": [
    "playground_equipment[\"manufacturer\"].unique()"
   ]
  },
  {
   "cell_type": "markdown",
   "metadata": {},
   "source": [
    "Here are my totally not arbitrary rankings:\n",
    "1. Kompan (WTF is this an amusement park?) ![Kompan](https://dk22sb66g7qaa.cloudfront.net/aesir-dam-viewports/castle-and-nature-playground-made-from-robinia-1366.jpeg?rel=2020-12-15+10%3A49%3A27)\n",
    "2. Burke (big and well-developed) ![Burke](https://www.bciburke.com/Portals/0/adam/Products%20Slider/NrWfuy30tkiBvIXviywlwQ/Image/field-of-dreams.jpg)\n",
    "3. Landscape Structures (futuristic, would definitely play on it) ![Landscape](https://www.rossrec.com/wp-content/uploads/bfi_thumb/Hedra-playsystem-1-ojo8m76h9u248v59brz47n5r3kub5gv3acjmf2z6co.jpg)\n",
    "4. Playworld (big slide) ![Playworld](https://playworld.com/sites/default/files/refresh-intro-image.jpg)\n",
    "5. Little Tykes (car is cheap, fuel-efficient, and environmentally friendly) ![Little Tykes](https://m.media-amazon.com/images/I/71VEtPLgBxL._AC_SL1500_.jpg)\n",
    "6. Park Structures (bland color scheme, but cool slide) ![Park Structures](https://www.miracle-recreation.com/content/uploads/2018/09/MREC_2018_OH_Westfork-Park_Structure-301.jpg)\n",
    "7. Miracle (fairly standard, nothing exceptional) ![Miracle](https://hasley-recreation.com/wp-content/uploads/Destination-Park-Loganville-Georgia-Playground-Miracle-1024x682.jpg)\n",
    "8. Gametime (terrible color scheme, but cool slide) ![Gametime](https://www.gametime.com/images/sized/GameTime-Playground-Tower-Rendering-18861-1621263048-3ecff71e66a3f640cb051d8d5d39bc69.jpg)\n",
    "9. Iron Mountain Forge (lame) ![Iron Mountain Forge](https://ww1.prweb.com/prfiles/2011/04/21/8334129/green.jpg)\n",
    "10. Big Toys (lame and too much exercise) ![Big Toys](https://www.bigtoys.com/images/homepage/category-traditionalstructures-img1.jpg)"
   ]
  },
  {
   "cell_type": "markdown",
   "metadata": {},
   "source": [
    "I've created a point system based upon the rankings of the slides. Rank k gets 11 - k points. For example, Rank 1 gets 10 points, Rank 5 gets 6 points, and Rank 10 gets 1 point. With this points system in mind, I've calculated the total number of points for each neighborhood in the code block below."
   ]
  },
  {
   "cell_type": "code",
   "execution_count": 6,
   "metadata": {},
   "outputs": [
    {
     "name": "stdout",
     "output_type": "stream",
     "text": [
      "East Liberty           232\n",
      "Squirrel Hill South    141\n",
      "Beechview              135\n",
      "Allegheny Center        91\n",
      "Hazelwood               83\n",
      "                      ... \n",
      "Allentown               12\n",
      "East Allegheny           7\n",
      "West Oakland             7\n",
      "Strip District           6\n",
      "Hays                     4\n",
      "Length: 68, dtype: int64\n"
     ]
    }
   ],
   "source": [
    "equipment_types = [\"Kompan\", \"Burke\", \"Landscape Structures\", \"Playworld\", \"Little Tykes\", \"Park Structures\", \"Miracle\", \"Gametime\", \"Iron Mountain Forge\", \"Big Toys\"]\n",
    "\n",
    "points = {}\n",
    "for i in range(10):\n",
    "    type = equipment_types[i];\n",
    "    query_mask = playground_equipment[\"manufacturer\"] == type\n",
    "    equipment_of_type = playground_equipment[query_mask]; \n",
    "    seen_nbhds = {}\n",
    "    for nbhd in equipment_of_type[\"neighborhood\"]: \n",
    "        if nbhd in seen_nbhds: #points already added for nbhd for this type\n",
    "            continue\n",
    "        seen_nbhds[nbhd] = 1;\n",
    "        num_of_type = equipment_of_type[\"neighborhood\"].value_counts().get(nbhd)\n",
    "        if not num_of_type: #num_of_type is None\n",
    "            continue\n",
    "        addition = (10 - i) * num_of_type #Number of points to add\n",
    "        if nbhd in points:\n",
    "            points[nbhd] += addition\n",
    "        else:\n",
    "            points[nbhd] = addition\n",
    "ser = pd.Series(points)\n",
    "ser = ser.sort_values(ascending=False)\n",
    "print(ser)"
   ]
  },
  {
   "cell_type": "markdown",
   "metadata": {},
   "source": [
    "This data makes sense, as the rankings are largely the same. However, East Liberty is the sole owner of Kompan equipment, which is marked as the highest rated at 10 points each. This explains why East Liberty wins with a large margin on this sub-metric."
   ]
  },
  {
   "cell_type": "code",
   "execution_count": 7,
   "metadata": {},
   "outputs": [
    {
     "data": {
      "text/plain": [
       "East Liberty    18\n",
       "Name: neighborhood, dtype: int64"
      ]
     },
     "execution_count": 7,
     "metadata": {},
     "output_type": "execute_result"
    }
   ],
   "source": [
    "query_mask = playground_equipment[\"manufacturer\"] == \"Kompan\"\n",
    "kompan_equipment = playground_equipment[query_mask]\n",
    "kompan_equipment[\"neighborhood\"].value_counts()"
   ]
  },
  {
   "cell_type": "markdown",
   "metadata": {},
   "source": [
    "Now, let's combine all three sub-metrics: total count, disability accessibility, and the weighted point system. To do so, let's normalize each metric (i.e. divide by the total sum) and then sum them for each neighborhood."
   ]
  },
  {
   "cell_type": "code",
   "execution_count": 8,
   "metadata": {},
   "outputs": [
    {
     "name": "stdout",
     "output_type": "stream",
     "text": [
      "Squirrel Hill South    0.199659\n",
      "East Liberty           0.189489\n",
      "Beechview              0.141060\n",
      "South Side Slopes      0.105008\n",
      "Elliott                0.096349\n",
      "                         ...   \n",
      "Esplen                 0.009862\n",
      "East Allegheny         0.009426\n",
      "Hays                   0.008275\n",
      "West Oakland           0.004931\n",
      "Strip District         0.004548\n",
      "Length: 68, dtype: float64\n"
     ]
    }
   ],
   "source": [
    "totals = {}\n",
    "\n",
    "total_pge = playground_equipment[\"neighborhood\"].value_counts().sum() #total pieces of playground equipment\n",
    "total_de = disability_equipment[\"neighborhood\"].value_counts().sum() #total pieces of disability equipmnet\n",
    "total_wps = ser.sum() #total points in the weighted point system\n",
    "for nbhd in playground_equipment[\"neighborhood\"]:\n",
    "    if nbhd in totals: #nbhd already counted\n",
    "        continue\n",
    "    pge_count = playground_equipment[\"neighborhood\"].value_counts().get(nbhd) #playground equipment count\n",
    "    de_count = disability_equipment[\"neighborhood\"].value_counts().get(nbhd) #disability equipment count\n",
    "    wps_count = ser.get(nbhd) #weighted point system count\n",
    "    if not pge_count: \n",
    "        pge_count = 0 #handles exceptions\n",
    "    if not de_count:\n",
    "        de_count = 0 #handles exceptions\n",
    "    if not wps_count:\n",
    "        wps_count = 0 #handles exceptions\n",
    "    totals[nbhd] = pge_count / total_pge + de_count / total_de + wps_count / total_wps \n",
    "totals_series = pd.Series(totals)\n",
    "totals_series = totals_series.sort_values(ascending=False)\n",
    "print(totals_series)"
   ]
  },
  {
   "cell_type": "markdown",
   "metadata": {},
   "source": [
    "As expected, Squirrel Hill South comes out on top with the most equipment in total, the most disability-accessible equipment, and the second-highest quality rating. East Liberty is a close second, but most of its boost came from the ranking system, which is kind of arbitrary. Let's make a bar chart of the top 5 neighborhoods judged by our final normalized, combined metric."
   ]
  },
  {
   "cell_type": "code",
   "execution_count": 9,
   "metadata": {},
   "outputs": [
    {
     "data": {
      "text/plain": [
       "<matplotlib.axes._subplots.AxesSubplot at 0x7f8f3c86daf0>"
      ]
     },
     "execution_count": 9,
     "metadata": {},
     "output_type": "execute_result"
    },
    {
     "data": {
      "image/png": "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\n",
      "text/plain": [
       "<Figure size 432x288 with 1 Axes>"
      ]
     },
     "metadata": {
      "needs_background": "light"
     },
     "output_type": "display_data"
    }
   ],
   "source": [
    "# Create a bar chart using the index as the category labels\n",
    "pd.Series(totals_series.head(5)).plot.bar()"
   ]
  },
  {
   "cell_type": "markdown",
   "metadata": {},
   "source": [
    "And, let's take a look at the top 10."
   ]
  },
  {
   "cell_type": "code",
   "execution_count": 10,
   "metadata": {},
   "outputs": [
    {
     "data": {
      "text/plain": [
       "<matplotlib.axes._subplots.AxesSubplot at 0x7f8f3a7d56a0>"
      ]
     },
     "execution_count": 10,
     "metadata": {},
     "output_type": "execute_result"
    },
    {
     "data": {
      "image/png": "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\n",
      "text/plain": [
       "<Figure size 432x288 with 1 Axes>"
      ]
     },
     "metadata": {
      "needs_background": "light"
     },
     "output_type": "display_data"
    }
   ],
   "source": [
    "# Create a bar chart using the index as the category labels\n",
    "pd.Series(totals_series.head(10)).plot.bar()"
   ]
  },
  {
   "cell_type": "markdown",
   "metadata": {},
   "source": [
    "With all of this data in mind, **Squirrel Hill South** is the clearly best neighborhood for playground equipment!"
   ]
  },
  {
   "cell_type": "markdown",
   "metadata": {},
   "source": [
    "## Fire Incidents"
   ]
  },
  {
   "cell_type": "code",
   "execution_count": 11,
   "metadata": {},
   "outputs": [],
   "source": [
    "import pandas as pd\n",
    "import numpy as np\n",
    "import matplotlib.pyplot as plt\n",
    "\n",
    "fire_Incidents = pd.read_csv(\"fireIncidents.csv\")"
   ]
  },
  {
   "cell_type": "markdown",
   "metadata": {},
   "source": [
    "Making a query mask to filter out just the neighborhoods with Passanger Vehicle fires"
   ]
  },
  {
   "cell_type": "code",
   "execution_count": 12,
   "metadata": {},
   "outputs": [],
   "source": [
    "fire_data = pd.read_csv('fireIncidents.csv')\n",
    "passenger_mask = fire_data['type_description'] == \"Passenger vehicle fire\"\n",
    "rubbish_mask = fire_data['type_description'] == \"Outside rubbish, trash or waste fire\"\n",
    "\n",
    "\n",
    "vehicle_Fires = fire_data[passenger_mask]\n",
    "rubbish_Fires = fire_data[rubbish_mask]"
   ]
  },
  {
   "cell_type": "code",
   "execution_count": 13,
   "metadata": {},
   "outputs": [
    {
     "data": {
      "text/plain": [
       "Mount Washington       40\n",
       "Homewood South         28\n",
       "Squirrel Hill South    27\n",
       "Hazelwood              25\n",
       "Homewood North         23\n",
       "                       ..\n",
       "Hays                    1\n",
       "Regent Square           1\n",
       "Chartiers City          1\n",
       "Arlington Heights       1\n",
       "Swisshelm Park          1\n",
       "Name: neighborhood, Length: 85, dtype: int64"
      ]
     },
     "execution_count": 13,
     "metadata": {},
     "output_type": "execute_result"
    }
   ],
   "source": [
    "vehicle_Fires['neighborhood'].value_counts()"
   ]
  },
  {
   "cell_type": "markdown",
   "metadata": {},
   "source": [
    "The five safest neighborhoods for passanger fires is Hays, Swisshelm Park, Chartiers City, Arlington Heights, and Regent Square"
   ]
  },
  {
   "cell_type": "code",
   "execution_count": 14,
   "metadata": {},
   "outputs": [
    {
     "data": {
      "text/plain": [
       "Hazelwood                    35\n",
       "Brookline                    30\n",
       "South Side Flats             26\n",
       "Carrick                      25\n",
       "Central Business District    20\n",
       "                             ..\n",
       "Lower Lawrenceville           1\n",
       "Westwood                      1\n",
       "Glen Hazel                    1\n",
       "Friendship                    1\n",
       "Windgap                       1\n",
       "Name: neighborhood, Length: 83, dtype: int64"
      ]
     },
     "execution_count": 14,
     "metadata": {},
     "output_type": "execute_result"
    }
   ],
   "source": [
    "rubbish_Fires['neighborhood'].value_counts()"
   ]
  },
  {
   "cell_type": "markdown",
   "metadata": {},
   "source": [
    "The five safest neighborhoods for rubbish and trash fires are Windgap, Friendship, Lower Lawrenceville, Regent Square, and Upper Hill"
   ]
  },
  {
   "cell_type": "markdown",
   "metadata": {},
   "source": [
    "METRIC #2 - Number of Alarms (The lower the number of alarms, the safer the neighborhood)"
   ]
  },
  {
   "cell_type": "code",
   "execution_count": 24,
   "metadata": {},
   "outputs": [],
   "source": [
    "alarm_data = pd.read_csv(\"fireIncidents.csv\")\n",
    "alarm_mask = alarm_data['alarms'] == 0\n",
    "number_of_alarms = alarm_data[alarm_mask]\n"
   ]
  },
  {
   "cell_type": "code",
   "execution_count": 16,
   "metadata": {},
   "outputs": [
    {
     "data": {
      "text/plain": [
       "<matplotlib.axes._subplots.AxesSubplot at 0x7f8f3a29e520>"
      ]
     },
     "execution_count": 16,
     "metadata": {},
     "output_type": "execute_result"
    },
    {
     "data": {
      "image/png": "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\n",
      "text/plain": [
       "<Figure size 432x288 with 1 Axes>"
      ]
     },
     "metadata": {
      "needs_background": "light"
     },
     "output_type": "display_data"
    }
   ],
   "source": [
    "number_of_alarms['neighborhood'].value_counts().head().plot.bar()\n",
    "#plt.bar(neighborhoods,number of alarms (best and worst))"
   ]
  },
  {
   "cell_type": "code",
   "execution_count": 17,
   "metadata": {},
   "outputs": [
    {
     "data": {
      "text/plain": [
       "<matplotlib.axes._subplots.AxesSubplot at 0x7f8f39d987f0>"
      ]
     },
     "execution_count": 17,
     "metadata": {},
     "output_type": "execute_result"
    },
    {
     "data": {
      "image/png": "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\n",
      "text/plain": [
       "<Figure size 432x288 with 1 Axes>"
      ]
     },
     "metadata": {
      "needs_background": "light"
     },
     "output_type": "display_data"
    }
   ],
   "source": [
    "number_of_alarms['neighborhood'].value_counts().tail().plot.bar()"
   ]
  },
  {
   "cell_type": "markdown",
   "metadata": {},
   "source": [
    "The neighborhoods with the most alarms  (the safest) Glen Hazel, Oakwood, Regent Square, Arlington Heights, and East Carnegie"
   ]
  },
  {
   "cell_type": "markdown",
   "metadata": {},
   "source": [
    "FINAL CONCLUSION - The safest neighborhood according to these metrics would be Squirrel Hill South. I actually used to visit it all the time and loved every bit of it. Addtionally, according to these metrics, it's the most safe for children which, I believe, means that the entire neighborhood is safe in general. "
   ]
  },
  {
   "cell_type": "markdown",
   "metadata": {},
   "source": [
    "## Speed Humps"
   ]
  },
  {
   "cell_type": "code",
   "execution_count": 18,
   "metadata": {},
   "outputs": [],
   "source": [
    "import pandas as pd\n",
    "# import numpy as np\n",
    "%matplotlib inline\n",
    "import matplotlib.pyplot as plt\n",
    "speed = pd.read_csv(\"speed.csv\")"
   ]
  },
  {
   "cell_type": "code",
   "execution_count": 19,
   "metadata": {},
   "outputs": [
    {
     "data": {
      "text/html": [
       "<div>\n",
       "<style scoped>\n",
       "    .dataframe tbody tr th:only-of-type {\n",
       "        vertical-align: middle;\n",
       "    }\n",
       "\n",
       "    .dataframe tbody tr th {\n",
       "        vertical-align: top;\n",
       "    }\n",
       "\n",
       "    .dataframe thead th {\n",
       "        text-align: right;\n",
       "    }\n",
       "</style>\n",
       "<table border=\"1\" class=\"dataframe\">\n",
       "  <thead>\n",
       "    <tr style=\"text-align: right;\">\n",
       "      <th></th>\n",
       "      <th>id</th>\n",
       "      <th>hump_id</th>\n",
       "      <th>locator_address_number</th>\n",
       "      <th>locator_street</th>\n",
       "      <th>pavement</th>\n",
       "      <th>speed_hump_material</th>\n",
       "      <th>council_district</th>\n",
       "      <th>ward</th>\n",
       "      <th>tract</th>\n",
       "      <th>public_works_division</th>\n",
       "      <th>pli_division</th>\n",
       "      <th>police_zone</th>\n",
       "      <th>fire_zone</th>\n",
       "      <th>latitude</th>\n",
       "      <th>longitude</th>\n",
       "    </tr>\n",
       "    <tr>\n",
       "      <th>neighborhood</th>\n",
       "      <th></th>\n",
       "      <th></th>\n",
       "      <th></th>\n",
       "      <th></th>\n",
       "      <th></th>\n",
       "      <th></th>\n",
       "      <th></th>\n",
       "      <th></th>\n",
       "      <th></th>\n",
       "      <th></th>\n",
       "      <th></th>\n",
       "      <th></th>\n",
       "      <th></th>\n",
       "      <th></th>\n",
       "      <th></th>\n",
       "    </tr>\n",
       "  </thead>\n",
       "  <tbody>\n",
       "    <tr>\n",
       "      <th>Bloomfield</th>\n",
       "      <td>3</td>\n",
       "      <td>3</td>\n",
       "      <td>3</td>\n",
       "      <td>3</td>\n",
       "      <td>3</td>\n",
       "      <td>3</td>\n",
       "      <td>3</td>\n",
       "      <td>3</td>\n",
       "      <td>3</td>\n",
       "      <td>3</td>\n",
       "      <td>3</td>\n",
       "      <td>3</td>\n",
       "      <td>3</td>\n",
       "      <td>3</td>\n",
       "      <td>3</td>\n",
       "    </tr>\n",
       "    <tr>\n",
       "      <th>Brookline</th>\n",
       "      <td>4</td>\n",
       "      <td>4</td>\n",
       "      <td>4</td>\n",
       "      <td>4</td>\n",
       "      <td>4</td>\n",
       "      <td>4</td>\n",
       "      <td>4</td>\n",
       "      <td>4</td>\n",
       "      <td>4</td>\n",
       "      <td>4</td>\n",
       "      <td>4</td>\n",
       "      <td>4</td>\n",
       "      <td>4</td>\n",
       "      <td>4</td>\n",
       "      <td>4</td>\n",
       "    </tr>\n",
       "    <tr>\n",
       "      <th>Carrick</th>\n",
       "      <td>9</td>\n",
       "      <td>9</td>\n",
       "      <td>9</td>\n",
       "      <td>9</td>\n",
       "      <td>9</td>\n",
       "      <td>8</td>\n",
       "      <td>9</td>\n",
       "      <td>9</td>\n",
       "      <td>9</td>\n",
       "      <td>9</td>\n",
       "      <td>9</td>\n",
       "      <td>9</td>\n",
       "      <td>9</td>\n",
       "      <td>9</td>\n",
       "      <td>9</td>\n",
       "    </tr>\n",
       "    <tr>\n",
       "      <th>Central Oakland</th>\n",
       "      <td>1</td>\n",
       "      <td>1</td>\n",
       "      <td>0</td>\n",
       "      <td>1</td>\n",
       "      <td>1</td>\n",
       "      <td>1</td>\n",
       "      <td>1</td>\n",
       "      <td>1</td>\n",
       "      <td>1</td>\n",
       "      <td>1</td>\n",
       "      <td>1</td>\n",
       "      <td>1</td>\n",
       "      <td>1</td>\n",
       "      <td>1</td>\n",
       "      <td>1</td>\n",
       "    </tr>\n",
       "    <tr>\n",
       "      <th>Garfield</th>\n",
       "      <td>3</td>\n",
       "      <td>3</td>\n",
       "      <td>3</td>\n",
       "      <td>3</td>\n",
       "      <td>3</td>\n",
       "      <td>3</td>\n",
       "      <td>3</td>\n",
       "      <td>3</td>\n",
       "      <td>3</td>\n",
       "      <td>3</td>\n",
       "      <td>3</td>\n",
       "      <td>3</td>\n",
       "      <td>3</td>\n",
       "      <td>3</td>\n",
       "      <td>3</td>\n",
       "    </tr>\n",
       "    <tr>\n",
       "      <th>Highland Park</th>\n",
       "      <td>2</td>\n",
       "      <td>2</td>\n",
       "      <td>2</td>\n",
       "      <td>2</td>\n",
       "      <td>2</td>\n",
       "      <td>2</td>\n",
       "      <td>2</td>\n",
       "      <td>2</td>\n",
       "      <td>2</td>\n",
       "      <td>2</td>\n",
       "      <td>2</td>\n",
       "      <td>2</td>\n",
       "      <td>2</td>\n",
       "      <td>2</td>\n",
       "      <td>2</td>\n",
       "    </tr>\n",
       "    <tr>\n",
       "      <th>Homewood South</th>\n",
       "      <td>4</td>\n",
       "      <td>4</td>\n",
       "      <td>4</td>\n",
       "      <td>4</td>\n",
       "      <td>4</td>\n",
       "      <td>4</td>\n",
       "      <td>4</td>\n",
       "      <td>4</td>\n",
       "      <td>4</td>\n",
       "      <td>4</td>\n",
       "      <td>4</td>\n",
       "      <td>4</td>\n",
       "      <td>4</td>\n",
       "      <td>4</td>\n",
       "      <td>4</td>\n",
       "    </tr>\n",
       "    <tr>\n",
       "      <th>Mount Washington</th>\n",
       "      <td>3</td>\n",
       "      <td>3</td>\n",
       "      <td>3</td>\n",
       "      <td>3</td>\n",
       "      <td>3</td>\n",
       "      <td>3</td>\n",
       "      <td>3</td>\n",
       "      <td>3</td>\n",
       "      <td>3</td>\n",
       "      <td>3</td>\n",
       "      <td>3</td>\n",
       "      <td>3</td>\n",
       "      <td>3</td>\n",
       "      <td>3</td>\n",
       "      <td>3</td>\n",
       "    </tr>\n",
       "    <tr>\n",
       "      <th>North Oakland</th>\n",
       "      <td>6</td>\n",
       "      <td>6</td>\n",
       "      <td>5</td>\n",
       "      <td>6</td>\n",
       "      <td>6</td>\n",
       "      <td>5</td>\n",
       "      <td>6</td>\n",
       "      <td>6</td>\n",
       "      <td>6</td>\n",
       "      <td>6</td>\n",
       "      <td>6</td>\n",
       "      <td>6</td>\n",
       "      <td>6</td>\n",
       "      <td>6</td>\n",
       "      <td>6</td>\n",
       "    </tr>\n",
       "    <tr>\n",
       "      <th>Overbrook</th>\n",
       "      <td>1</td>\n",
       "      <td>1</td>\n",
       "      <td>1</td>\n",
       "      <td>1</td>\n",
       "      <td>1</td>\n",
       "      <td>1</td>\n",
       "      <td>1</td>\n",
       "      <td>1</td>\n",
       "      <td>1</td>\n",
       "      <td>1</td>\n",
       "      <td>1</td>\n",
       "      <td>1</td>\n",
       "      <td>1</td>\n",
       "      <td>1</td>\n",
       "      <td>1</td>\n",
       "    </tr>\n",
       "    <tr>\n",
       "      <th>Perry North</th>\n",
       "      <td>4</td>\n",
       "      <td>4</td>\n",
       "      <td>4</td>\n",
       "      <td>4</td>\n",
       "      <td>4</td>\n",
       "      <td>4</td>\n",
       "      <td>4</td>\n",
       "      <td>4</td>\n",
       "      <td>4</td>\n",
       "      <td>4</td>\n",
       "      <td>4</td>\n",
       "      <td>4</td>\n",
       "      <td>4</td>\n",
       "      <td>4</td>\n",
       "      <td>4</td>\n",
       "    </tr>\n",
       "    <tr>\n",
       "      <th>Polish Hill</th>\n",
       "      <td>6</td>\n",
       "      <td>6</td>\n",
       "      <td>6</td>\n",
       "      <td>6</td>\n",
       "      <td>6</td>\n",
       "      <td>6</td>\n",
       "      <td>6</td>\n",
       "      <td>6</td>\n",
       "      <td>6</td>\n",
       "      <td>6</td>\n",
       "      <td>6</td>\n",
       "      <td>6</td>\n",
       "      <td>6</td>\n",
       "      <td>6</td>\n",
       "      <td>6</td>\n",
       "    </tr>\n",
       "    <tr>\n",
       "      <th>South Side Flats</th>\n",
       "      <td>3</td>\n",
       "      <td>3</td>\n",
       "      <td>3</td>\n",
       "      <td>3</td>\n",
       "      <td>3</td>\n",
       "      <td>3</td>\n",
       "      <td>3</td>\n",
       "      <td>3</td>\n",
       "      <td>3</td>\n",
       "      <td>3</td>\n",
       "      <td>3</td>\n",
       "      <td>3</td>\n",
       "      <td>3</td>\n",
       "      <td>3</td>\n",
       "      <td>3</td>\n",
       "    </tr>\n",
       "    <tr>\n",
       "      <th>South Side Slopes</th>\n",
       "      <td>4</td>\n",
       "      <td>4</td>\n",
       "      <td>4</td>\n",
       "      <td>4</td>\n",
       "      <td>4</td>\n",
       "      <td>4</td>\n",
       "      <td>4</td>\n",
       "      <td>4</td>\n",
       "      <td>4</td>\n",
       "      <td>4</td>\n",
       "      <td>4</td>\n",
       "      <td>4</td>\n",
       "      <td>4</td>\n",
       "      <td>4</td>\n",
       "      <td>4</td>\n",
       "    </tr>\n",
       "    <tr>\n",
       "      <th>Squirrel Hill North</th>\n",
       "      <td>3</td>\n",
       "      <td>3</td>\n",
       "      <td>0</td>\n",
       "      <td>3</td>\n",
       "      <td>3</td>\n",
       "      <td>1</td>\n",
       "      <td>3</td>\n",
       "      <td>3</td>\n",
       "      <td>3</td>\n",
       "      <td>3</td>\n",
       "      <td>3</td>\n",
       "      <td>3</td>\n",
       "      <td>3</td>\n",
       "      <td>3</td>\n",
       "      <td>3</td>\n",
       "    </tr>\n",
       "    <tr>\n",
       "      <th>Squirrel Hill South</th>\n",
       "      <td>18</td>\n",
       "      <td>18</td>\n",
       "      <td>17</td>\n",
       "      <td>18</td>\n",
       "      <td>18</td>\n",
       "      <td>17</td>\n",
       "      <td>18</td>\n",
       "      <td>18</td>\n",
       "      <td>18</td>\n",
       "      <td>18</td>\n",
       "      <td>18</td>\n",
       "      <td>18</td>\n",
       "      <td>18</td>\n",
       "      <td>18</td>\n",
       "      <td>18</td>\n",
       "    </tr>\n",
       "    <tr>\n",
       "      <th>Stanton Heights</th>\n",
       "      <td>1</td>\n",
       "      <td>1</td>\n",
       "      <td>1</td>\n",
       "      <td>1</td>\n",
       "      <td>1</td>\n",
       "      <td>1</td>\n",
       "      <td>1</td>\n",
       "      <td>1</td>\n",
       "      <td>1</td>\n",
       "      <td>1</td>\n",
       "      <td>1</td>\n",
       "      <td>1</td>\n",
       "      <td>1</td>\n",
       "      <td>1</td>\n",
       "      <td>1</td>\n",
       "    </tr>\n",
       "    <tr>\n",
       "      <th>Upper Hill</th>\n",
       "      <td>4</td>\n",
       "      <td>4</td>\n",
       "      <td>4</td>\n",
       "      <td>4</td>\n",
       "      <td>4</td>\n",
       "      <td>4</td>\n",
       "      <td>4</td>\n",
       "      <td>4</td>\n",
       "      <td>4</td>\n",
       "      <td>4</td>\n",
       "      <td>4</td>\n",
       "      <td>4</td>\n",
       "      <td>4</td>\n",
       "      <td>4</td>\n",
       "      <td>4</td>\n",
       "    </tr>\n",
       "  </tbody>\n",
       "</table>\n",
       "</div>"
      ],
      "text/plain": [
       "                     id  hump_id  locator_address_number  locator_street  \\\n",
       "neighborhood                                                               \n",
       "Bloomfield            3        3                       3               3   \n",
       "Brookline             4        4                       4               4   \n",
       "Carrick               9        9                       9               9   \n",
       "Central Oakland       1        1                       0               1   \n",
       "Garfield              3        3                       3               3   \n",
       "Highland Park         2        2                       2               2   \n",
       "Homewood South        4        4                       4               4   \n",
       "Mount Washington      3        3                       3               3   \n",
       "North Oakland         6        6                       5               6   \n",
       "Overbrook             1        1                       1               1   \n",
       "Perry North           4        4                       4               4   \n",
       "Polish Hill           6        6                       6               6   \n",
       "South Side Flats      3        3                       3               3   \n",
       "South Side Slopes     4        4                       4               4   \n",
       "Squirrel Hill North   3        3                       0               3   \n",
       "Squirrel Hill South  18       18                      17              18   \n",
       "Stanton Heights       1        1                       1               1   \n",
       "Upper Hill            4        4                       4               4   \n",
       "\n",
       "                     pavement  speed_hump_material  council_district  ward  \\\n",
       "neighborhood                                                                 \n",
       "Bloomfield                  3                    3                 3     3   \n",
       "Brookline                   4                    4                 4     4   \n",
       "Carrick                     9                    8                 9     9   \n",
       "Central Oakland             1                    1                 1     1   \n",
       "Garfield                    3                    3                 3     3   \n",
       "Highland Park               2                    2                 2     2   \n",
       "Homewood South              4                    4                 4     4   \n",
       "Mount Washington            3                    3                 3     3   \n",
       "North Oakland               6                    5                 6     6   \n",
       "Overbrook                   1                    1                 1     1   \n",
       "Perry North                 4                    4                 4     4   \n",
       "Polish Hill                 6                    6                 6     6   \n",
       "South Side Flats            3                    3                 3     3   \n",
       "South Side Slopes           4                    4                 4     4   \n",
       "Squirrel Hill North         3                    1                 3     3   \n",
       "Squirrel Hill South        18                   17                18    18   \n",
       "Stanton Heights             1                    1                 1     1   \n",
       "Upper Hill                  4                    4                 4     4   \n",
       "\n",
       "                     tract  public_works_division  pli_division  police_zone  \\\n",
       "neighborhood                                                                   \n",
       "Bloomfield               3                      3             3            3   \n",
       "Brookline                4                      4             4            4   \n",
       "Carrick                  9                      9             9            9   \n",
       "Central Oakland          1                      1             1            1   \n",
       "Garfield                 3                      3             3            3   \n",
       "Highland Park            2                      2             2            2   \n",
       "Homewood South           4                      4             4            4   \n",
       "Mount Washington         3                      3             3            3   \n",
       "North Oakland            6                      6             6            6   \n",
       "Overbrook                1                      1             1            1   \n",
       "Perry North              4                      4             4            4   \n",
       "Polish Hill              6                      6             6            6   \n",
       "South Side Flats         3                      3             3            3   \n",
       "South Side Slopes        4                      4             4            4   \n",
       "Squirrel Hill North      3                      3             3            3   \n",
       "Squirrel Hill South     18                     18            18           18   \n",
       "Stanton Heights          1                      1             1            1   \n",
       "Upper Hill               4                      4             4            4   \n",
       "\n",
       "                     fire_zone  latitude  longitude  \n",
       "neighborhood                                         \n",
       "Bloomfield                   3         3          3  \n",
       "Brookline                    4         4          4  \n",
       "Carrick                      9         9          9  \n",
       "Central Oakland              1         1          1  \n",
       "Garfield                     3         3          3  \n",
       "Highland Park                2         2          2  \n",
       "Homewood South               4         4          4  \n",
       "Mount Washington             3         3          3  \n",
       "North Oakland                6         6          6  \n",
       "Overbrook                    1         1          1  \n",
       "Perry North                  4         4          4  \n",
       "Polish Hill                  6         6          6  \n",
       "South Side Flats             3         3          3  \n",
       "South Side Slopes            4         4          4  \n",
       "Squirrel Hill North          3         3          3  \n",
       "Squirrel Hill South         18        18         18  \n",
       "Stanton Heights              1         1          1  \n",
       "Upper Hill                   4         4          4  "
      ]
     },
     "execution_count": 19,
     "metadata": {},
     "output_type": "execute_result"
    }
   ],
   "source": [
    "speed.groupby(\"neighborhood\").count()"
   ]
  },
  {
   "cell_type": "code",
   "execution_count": 20,
   "metadata": {},
   "outputs": [
    {
     "data": {
      "text/plain": [
       "Squirrel Hill South    18\n",
       "Carrick                 9\n",
       "Polish Hill             6\n",
       "North Oakland           6\n",
       "Homewood South          4\n",
       "Upper Hill              4\n",
       "South Side Slopes       4\n",
       "Brookline               4\n",
       "Perry North             4\n",
       "Garfield                3\n",
       "Mount Washington        3\n",
       "Bloomfield              3\n",
       "South Side Flats        3\n",
       "Squirrel Hill North     3\n",
       "Highland Park           2\n",
       "Overbrook               1\n",
       "Stanton Heights         1\n",
       "Central Oakland         1\n",
       "Name: neighborhood, dtype: int64"
      ]
     },
     "execution_count": 20,
     "metadata": {},
     "output_type": "execute_result"
    }
   ],
   "source": [
    "speed[\"neighborhood\"].value_counts()"
   ]
  },
  {
   "cell_type": "code",
   "execution_count": 21,
   "metadata": {},
   "outputs": [
    {
     "data": {
      "text/plain": [
       "<matplotlib.axes._subplots.AxesSubplot at 0x7f8f39d824c0>"
      ]
     },
     "execution_count": 21,
     "metadata": {},
     "output_type": "execute_result"
    },
    {
     "data": {
      "image/png": "iVBORw0KGgoAAAANSUhEUgAAAXoAAAFMCAYAAADFg3cgAAAABHNCSVQICAgIfAhkiAAAAAlwSFlzAAALEgAACxIB0t1+/AAAADh0RVh0U29mdHdhcmUAbWF0cGxvdGxpYiB2ZXJzaW9uMy4yLjIsIGh0dHA6Ly9tYXRwbG90bGliLm9yZy+WH4yJAAAgAElEQVR4nO2de7xt1dz/359OpXRPR6hOJ0nkUjglhELRxSXXErkfl3iKxyX6PSQeIh5SqOiOhKQoKXS/n1One5Hk6aKLSkUeKZ/fH2Os9trrrL3PmnOOffZa83zfr9d+7TVv3zX23GN+5xjf8b3INkEQBEF7WWq6GxAEQRBMLaHogyAIWk4o+iAIgpYTij4IgqDlhKIPgiBoOaHogyAIWs7S092AfqyxxhqePXv2dDcjCIJgZJg/f/5fbM/sd2woFf3s2bOZN2/edDcjCIJgZJD0p4mOhekmCIKg5YSiD4IgaDmh6IMgCFpOKPogCIKWE4o+CIKg5YSiD4IgaDmh6IMgCFpOKPogCIKWM5QBU73M3vOkgc67cd/tp7glQRAEo0eM6IMgCFrOIkf0kg4DdgDusP30vO9YYMN8yqrAX21v0ufaG4H7gYeBh2zPKdTuIAiCYEAGMd0cARwIHNXZYftNnc+SvgrcO8n1W9n+S90GBkEQBM1YpKK3fZak2f2OSRLwRuAlZZsVBEEQlKKpjf6FwO22fz/BcQOnSpovaW7D7wqCIAhq0NTrZmfgmEmOb2H7FkmPBU6TdK3ts/qdmF8EcwFmzZrVsFlBEARBh9ojeklLA68Fjp3oHNu35N93AMcDm01y7iG259ieM3Nm39z5QRAEQQ2amG5eBlxr++Z+ByWtIGmlzmdgG+DKBt8XBEEQ1GCRil7SMcD5wIaSbpb0rnxoJ3rMNpKeIOnkvLkmcI6ky4CLgJNsn1Ku6UEQBMEgDOJ1s/ME+9/eZ9+twHb58w3Axg3bFwRBEDQkImODIAhaTij6IAiClhOKPgiCoOWEog+CIGg5oeiDIAhaTij6IAiClhOKPgiCoOWEog+CIGg5oeiDIAhaTij6IAiClhOKPgiCoOWEog+CIGg5oeiDIAhaTij6IAiClhOKPgiCoOWEog+CIGg5oeiDIAhaTij6IAiClhOKPgiCoOWEog+CIGg5i1T0kg6TdIekK7v27S3pFkkL8s92E1z7CknXSbpe0p4lGx4EQRAMxiAj+iOAV/TZ/zXbm+Sfk3sPSpoBfBPYFtgI2FnSRk0aGwRBEFRnkYre9lnA3TVkbwZcb/sG2w8CPwReXUNOEARB0IAmNvoPSro8m3ZW63N8LeCmru2b874gCIJgMVJX0X8bWB/YBPgz8NWmDZE0V9I8SfPuvPPOpuKCIAiCTC1Fb/t22w/b/jfwHZKZppdbgHW6ttfO+yaSeYjtObbnzJw5s06zgiAIgj7UUvSSHt+1uSNwZZ/TLgY2kLSepGWBnYAT63xfEARBUJ+lF3WCpGOALYE1JN0MfAbYUtImgIEbgffmc58AfNf2drYfkvRB4FfADOAw21dNyV8RBEEQTMgiFb3tnfvsPnSCc28FtuvaPhlYyPUyCIIgWHxEZGwQBEHLCUUfBEHQckLRB0EQtJxQ9EEQBC0nFH0QBEHLCUUfBEHQckLRB0EQtJxQ9EEQBC0nFH0QBEHLCUUfBEHQckLRB0EQtJxQ9EEQBC0nFH0QBEHLCUUfBEHQckLRB0EQtJxQ9EEQBC0nFH0QBEHLCUUfBEHQckLRB0EQtJxQ9EEQBC1nkYpe0mGS7pB0Zde+/SRdK+lyScdLWnWCa2+UdIWkBZLmlWx4EARBMBiDjOiPAF7Rs+804Om2nwn8DvjkJNdvZXsT23PqNTEIgiBowiIVve2zgLt79p1q+6G8eQGw9hS0LQiCIChACRv9O4FfTnDMwKmS5kuaW+C7giAIgoos3eRiSXsBDwHfn+CULWzfIumxwGmSrs0zhH6y5gJzAWbNmtWkWUEQBEEXtUf0kt4O7ADsYtv9zrF9S/59B3A8sNlE8mwfYnuO7TkzZ86s26wgCIKgh1qKXtIrgI8Dr7L9wATnrCBppc5nYBvgyn7nBkEQBFPHIO6VxwDnAxtKulnSu4ADgZVI5pgFkg7K5z5B0sn50jWBcyRdBlwEnGT7lCn5K4IgCIIJWaSN3vbOfXYfOsG5twLb5c83ABs3al0QBEHQmIiMDYIgaDmh6IMgCFpOKPogCIKWE4o+CIKg5YSiD4IgaDmh6IMgCFpOKPogCIKWE4o+CIKg5YSiD4IgaDmh6IMgCFpOKPogCIKWE4o+CIKg5YSiD4IgaDmh6IMgCFpOKPogCIKWE4o+CIKg5YSiD4IgaDmh6IMgCFpOKPogCIKWE4o+CIKg5Qyk6CUdJukOSVd27Vtd0mmSfp9/rzbBtW/L5/xe0ttKNTwIgiAYjEFH9EcAr+jZtyfwG9sbAL/J2+OQtDrwGeC5wGbAZyZ6IQRBEARTw0CK3vZZwN09u18NHJk/Hwm8ps+lLwdOs3237XuA01j4hREEQRBMIU1s9Gva/nP+fBuwZp9z1gJu6tq+Oe8LgiAIFhNFFmNtG3ATGZLmSponad6dd95ZollBEAQBzRT97ZIeD5B/39HnnFuAdbq21877FsL2Ibbn2J4zc+bMBs0KgiAIummi6E8EOl40bwNO6HPOr4BtJK2WF2G3yfuCIAiCxcSg7pXHAOcDG0q6WdK7gH2BrSX9HnhZ3kbSHEnfBbB9N/A54OL8s0/eFwRBECwmlh7kJNs7T3DopX3OnQe8u2v7MOCwWq0LgiAIGhORsUEQBC0nFH0QBEHLCUUfBEHQckLRB0EQtJxQ9EEQBC0nFH0QBEHLGci9sk3M3vOkRZ5z477bL4aWBEEQLB5iRB8EQdByQtEHQRC0nFD0QRAELScUfRAEQcsJRR8EQdByQtEHQRC0nFD0QRAELScUfRAEQcsJRR8EQdByQtEHQRC0nFD0QRAELScUfRAEQcupreglbShpQdfPfZL26DlnS0n3dp3z6eZNDoIgCKpQO3ul7euATQAkzQBuAY7vc+rZtneo+z1BEARBM0qZbl4K/MH2nwrJC4IgCApRStHvBBwzwbHnSbpM0i8lPa3Q9wVBEAQD0ljRS1oWeBXw4z6HLwHWtb0xcADws0nkzJU0T9K8O++8s2mzgiAIgkyJEf22wCW2b+89YPs+23/Ln08GlpG0Rj8htg+xPcf2nJkzZxZoVhAEQQBlFP3OTGC2kfQ4ScqfN8vfd1eB7wyCIAgGpFHNWEkrAFsD7+3a9z4A2wcBrwfeL+kh4B/ATrbd5DuDIAiCajRS9Lb/DjymZ99BXZ8PBA5s8h1BEARBMyIyNgiCoOWEog+CIGg5oeiDIAhaTij6IAiClhOKPgiCoOWEog+CIGg5oeiDIAhaTij6IAiClhOKPgiCoOWEog+CIGg5oeiDIAhaTij6IAiClhOKPgiCoOU0yl65JDN7z5MGOu/GfbcvImsQOUEQBP2IEX0QBEHLCUUfBEHQckLRB0EQtJxQ9EEQBC0nFH0QBEHLCUUfBEHQchorekk3SrpC0gJJ8/ocl6RvSLpe0uWSnt30O4MgCILBKeVHv5Xtv0xwbFtgg/zzXODb+XcQBEGwGFgcpptXA0c5cQGwqqTHL4bvDYIgCCij6A2cKmm+pLl9jq8F3NS1fXPeFwRBECwGSphutrB9i6THAqdJutb2WVWF5JfEXIBZs2YVaFYQBEEABUb0tm/Jv+8Ajgc26znlFmCdru21875eOYfYnmN7zsyZM5s2KwiCIMg0UvSSVpC0UuczsA1wZc9pJwK7Zu+bzYF7bf+5yfcGQRAEg9PUdLMmcLykjqwf2D5F0vsAbB8EnAxsB1wPPAC8o+F3BkEQBBVopOht3wBs3Gf/QV2fDezW5HuCIAiC+kRkbBAEQcsJRR8EQdByQtEHQRC0nFD0QRAELScUfRAEQcsJRR8EQdByQtEHQRC0nFJpioMhYfaeJy3ynBv33b6InJKyRrVNQTAKxIg+CIKg5YSiD4IgaDmh6IMgCFpOKPogCIKWE4o+CIKg5YSiD4IgaDmh6IMgCFpOKPogCIKWE4o+CIKg5YSiD4IgaDmRAiEIGtLmFA/D2KagOjGiD4IgaDm1Fb2kdSSdLulqSVdJ2r3POVtKulfSgvzz6WbNDYIgCKrSxHTzEPCfti+RtBIwX9Jptq/uOe9s2zs0+J4gCIKgAbVH9Lb/bPuS/Pl+4BpgrVINC4IgCMpQxEYvaTbwLODCPoefJ+kySb+U9LQS3xcEQRAMTmOvG0krAscBe9i+r+fwJcC6tv8maTvgZ8AGE8iZC8wFmDVrVtNmBUEQBJlGI3pJy5CU/Pdt/7T3uO37bP8tfz4ZWEbSGv1k2T7E9hzbc2bOnNmkWUEQBEEXTbxuBBwKXGP7fyY453H5PCRtlr/vrrrfGQRBEFSnienmBcBbgSskLcj7PgXMArB9EPB64P2SHgL+Aexk2w2+MwiCIKhIbUVv+xxAizjnQODAut8RBEEQNCciY4MgCFpO5LoJgmDkiLw51YgRfRAEQcsJRR8EQdByQtEHQRC0nFD0QRAELScUfRAEQcsJRR8EQdByQtEHQRC0nFD0QRAELScUfRAEQcsJRR8EQdByIgVCEARLLIOkUoDB0imUSstQsk0dYkQfBEHQckLRB0EQtJxQ9EEQBC0nFH0QBEHLCUUfBEHQckLRB0EQtJxQ9EEQBC2nkaKX9ApJ10m6XtKefY4/StKx+fiFkmY3+b4gCIKgOrUVvaQZwDeBbYGNgJ0lbdRz2ruAe2w/Cfga8KW63xcEQRDUo8mIfjPgets32H4Q+CHw6p5zXg0cmT//BHipJDX4ziAIgqAiTRT9WsBNXds35319z7H9EHAv8JgG3xkEQRBURLbrXSi9HniF7Xfn7bcCz7X9wa5zrszn3Jy3/5DP+UsfeXOBuXlzQ+C6RTRhDWAhOTUoJWdYZUWbFr+saNPilxVtgnVtz+x3oElSs1uAdbq21877+p1zs6SlgVWAu/oJs30IcMigXy5pnu05lVo8hXKGVVa0afHLijYtflnRpslpYrq5GNhA0nqSlgV2Ak7sOedE4G358+uB37ruFCIIgiCoRe0Rve2HJH0Q+BUwAzjM9lWS9gHm2T4ROBQ4WtL1wN2kl0EQBEGwGGmUj972ycDJPfs+3fX5/4A3NPmOSRjYzLOY5AyrrGjT4pcVbVr8sqJNk1B7MTYIgiAYDSIFQhAEQcsJRR8EwcBIWkrSykPQjtX77FtvOtoyCoyU6SanXViTrrUF2/9bQ456vX8kPcr2Pwe8/rWTHbf90wpt+cgiZP3PoLKyvBcAewPrku6Tkhg/cRrb9GXg88A/gFOAZwIftv29KnJ6ZC4PzLK9qHiLyWQ0vldTgaTnA7MZ38+Pmsb2/AB4H/AwydtuZWB/2/vVlNf4OZZ0LrCt7fvy9kbAj2w/vUZ7nmN7fs++HWz/oqKc3YHDgfuB7wLPAva0fWrVNpVmZIqDS/oQ8BngduDfebdJSqMqhwLv7JK9InAC8NIBr3/lJMcMDKzogZXy7w2BTRlzUX0lcFEFOR0OBT4MzCc9mHVYadGnVGIb2x+XtCNwI/Ba4CyglqKX9ErgK8CywHqSNgH2sf2qiqJK3KuiSDoaWB9YwFibDAys6EsORDIb2b5P0i7AL4E9SfessqIv+Bx/Afi5pO1Jz85RwC5V25P5jqRdbV+Z27gzsAdQSdED77S9v6SXA6sBbwWOBgZW9JLuJ92PvtiuNZsaGUUP7A5saLtvwFVFbpb0LdsfkLQacBLwnUEvtv2OAm3oyPosgKSzgGfbvj9v753bVZV7bf+yRJsK0uln2wM/tn1vw5RHe5NyLZ0BYHtBzWl743s1BQ/mHJJibTLV7gxEHgs8H/ht3t4KOI9qAxGAZSQtA7wGOND2vxr8/4o8x7ZPym06lTQw2dH272qKez3wE0lvBl4I7ApsU0NO56ZsBxyd3c0r3SjbKwFI+hzwZ9KLQqSX2ONrtAkYLUV/EylXTmNsf1rSlyUdBDwH2Nf2cYNeX9q0kVkTeLBr+8G8b9A2PTt/PF3SfqSH+RFTlO1LKsj6xmTHbf/HoLIyv5B0Lcl0835JM4H/qyijm3/1eVkMrBhL3qspeDCvBB6XZdWiMxCRdCrppfHnvP144IgaIg8mzcQuA86StC71n8VGz7GkAxj/v14F+APwQUl1+ia2b5C0E/Az4H9JM9B/1Gje/HzP1wM+KWklxmYtVXmV7Y27tr8t6TLg0xNdMBlDr+i7lOoNwBmSTmL8QzmwUu2Z0l4I/BfJPGJJr60wpS1t2oA09bxI0vF5+zWMZf4chK/2bHeHSxt4SQVZ8xd9yuDY3jPb6e+1/bCkB1g402kVrsqjrxmSNgD+gzRSHZSS96pDqQdzDeBqSRcxvp9XNUsBrNNR8pnbgVk15Pzc9iMvf0n/S5fpcxAKPsfzerZr91VJVzD+pbE6KfjzwvzSqGpOehewCXCD7QckPQaoO/v/ezaV/TC3cWfg7zVlDf9irKTPTHLYtvepIOvwRciq1HlLI+k5wBZ58yzbl9aQ8UTbNyxq3+JE0qOBj5AWT+dm5bxh1cWuHnl7kabXIkVnfy4H6FWRU+xeSTqPVJ+h+8HczfbzK8p5cb/9ts+s0aYDgQ2AY/KuN5FSi3+oopxLbD+7Z99828+pIKPkczwDOMp2XZt8R866kx23/aeK8n5j+6WL2jegrNnA/sALSP3pXGAP2zdWlQUjoOg7SHqD7R8vat9iasvHbX+5zzQSqGXa6Mgt4Y1Q4qH8uu09JP2c/n9fpdGlpGNJI69dbT89K+rzbG9SRU5pStyrrutmU+jBlLQmaWEe4CLbd1SV0SXrtSS7M6TBw/GTnd9z7VOApwFfBj7WdWhl4GO2n1ajPUWeY0nnAC9xqoXRGEkbM3afzrZ9WYVrlwMeDZwObMmYrX5l4BTbTynRxiYMvemmi08CvZ2h375FIulIYHfbf83bqwFfrTCivyb/7p1G1qbHG+FhsqsfA3ojdD2Uq/SYqFYGlqvYnKPz769UvG4i1rf9puzNQJ7W1l7Nk/Rk4KMs7II4kMml8L3qfPeNNDNHddr2RpI3yxmkPnCApI/Z/knNdv2U6ouvHTYEdgBWZbyn2f3Ae2rKLPUc3wCcK+lEukwaddbHslvkexi7T9+TdIjtAwYU8V6Sl84TSAOaTt++Dziwantym2bmNs1mfB+vZXUYekUvaVvSKvZaPYuEKwMP1RT7zI6SB7B9j6RnDXqx7Z/n31Vs6IuiqTdCsYey41Ncx1wwAQ8q+b0bQNL6dNlna/Bj4CCSr3Idt8hi92qiWV2HGrO7vYBNO6P4/MD/mlShbdA2TeQJ1IkTGMgTyPYJwAmSnmf7/EG/f4I2lX6O/5B/lqL5mtm7SHUy/p7b+iXgfGAgRW97f2B/SR+q8HJYFCcAZ5P+941df4de0QO3kkbOr2L8wsv9JB/oOiwlaTXb98AjUXYD34uJTBodai6cNfJGKPxQ9i5S9X5X1UWqz5ACpdaR9H2SeePttRsID9n+dt2LbZ8g6RfAJ2x/oUE7oOCsLrNUj6nmLipGsHc8gQpyqaTdSLOgR2Y8FUeXRZ/jwi7AYrwy7cyoK2H7AJULdnu07U/UuK4vo2SjX9qpHGEJWbsCnyKNDEXyo/1v20dPeuHY9Z0FM5H879/dfbzmwtmhpJFmba+iLOdw+tvVB34ouxaplNuzXY+sSotUWeZjgM2zzAvcp8pYBVl7A3cAxzP+Xt1dUc5Ftjer244JZD7a9gMNrt+PZK7rXkC9wvbHa8rbAtjA9uGS1gBWsv3HijJ+DFwLvBnYh+Q6eo3t3SvKmUHyL39zlesmkDUT+DgLv3wqe0xlj6C3kfqTSCa4I2x/vaKcvsFuddbsJH2etI518iJPHkTeCCn6P9JfgdUKV1cKme50it/avrqmnEttD2z2mUROX6+EqiMXSa/r2lwO2BG4tcEC8UILljXlvJbkUWTgnCqLgn1k9VNUrtoXJH0NWAY4lvF23oH96LtkPY8Uabui7Vl5ce+9tj9QQ1bnXkFaGKx1r3KfmkMyCT5Z0hNIAWsvqCjnUtvPknS57WcqBSqdbXvzGm06G3hp00VUJX/1Y0lrNe8jKeo7646ClWIruvtnHY+3a2ge7NaRdT+wAmkg8y8qmt16GQXTTYduX+flSHnuF0psNBmSVnYK5V4duA34Qdex1auOCDNF3pSlpqLuCfySdAxwTgnZdZH0LeBJjI1S3yvpZbZ3qyPPdqnkVR2vn27Xvrp+9F8HXk5OYWH7MkkvqipE0peysvppn31V2ZGUb+WS3KZblYJ4qvKv/Puvkp5OenYeW0MOwB8ps4j6GNuHSto9z6DPlHRxzTZBGoE7/9QNcmoc7NahtPltZBR9n0XKr0uaT7WAlB+QFuHmM15BdzxcBhoRanzmvBnZa+cRm16dF0bJqWgPG1DxodRY5CjA8nmhuvvvqzrifQnw1M5IJ3s9XVVRBpJeYvu3miCXiyvmcLG9VdU2LELeTT3ORHUW0bYGepX6tn32DcKDti2pc99XqCED4JDcx/+L9CJbkZoRmpRbRO28fP6slO/mVioO/Dp0ed0cR+rnlbxuutbsVqJcsFvHG3ADxuuDs+rIGhlF36N8liKN8Cu13/YO2a3vxa6R9bKLzoui81R3K76BXxg9fJ80Fd2BrqloVSFdHhedl9dtVFcS3ZGjtwHdo606I97rSRGZHdv+OnlfVV5MytvSL6lc1WRySFqFtFDcGXmfSUqOVmdR/Ka8EOds2tidMTfcQdryfuADwBMlXd51aCWST34dfiTpYGBVSe8hRbMOnNOpg+3v5o9nUq9vd8vq5HZaMW//raaoz+f/33+SvGNWpr5zRiOvG8q5IT+CpHeT+tDaJJv/5rlNtQZ+o2SjP71r8yFS7o2vuEaaWklX2H5GqbaVQDlQp2MHzfsutr3poq4ddiSdSQoA6mTj3JTkgXEv1B/xFGjXcaTpdsdN9q3AxrYnzf44gaw1SAFTLyO9ZE8lxWoM5C6bldZqwBdJ2SE73F/TpNiRuzVdEcS2T6twbfGcTtn0czRjo++/kALpBprhKQUnvY9kCrwCOLSpk0b2MtvUObI6f8fF06kjOm0iOS5sohT78YU6fRNGaERfeJp9iaRNbTex6ZWm5FT0VYyNUs9wzVQDBak7zR/HFCie9W13L15/VtKC6i2D7EVUOyQ/zyLuzW6M45C0jO1/9blsELmnAQMr9x6mIqfTIcBHbJ8OIGlL0ixj0FQRR5KelbNJJq2NSCPfJhxOym/TnWfq0KpC1D9+4V7SoOY/XS21xv/Z/j9JKNXKuFbShlXb1GFkFH3hafZzgV0k/Ym0INRZ0a6T274URaaikvYljQS+n3ftLun5tj9VrKUVsX2myoT1l1Y8/5C0he1zAJQKkVTKWqjy6TAuIZm27iH1y1WB2yTdDrzHPQUyJmjTOba36KN4qgZMlU5XDbBCR8nn7zij4trBRp2RtpJLcp2aDY8gaSngAlIkcsfT6R11vG5IC/I3k9YCBexEcre8BDiMlB5hUG6WtCopo+Zpku5hzPRZmVEy3RSZZmcb/Qvpc9Ncwz982Mj23U1s/ztvzwAurfoSy/dpbds3FWhTb1j/C0m5UmqF9ffzkJK0Xg3/8E1I/WmV3K67gbe7Wp6THWz/QtLb+h13xehpSd8BfmL7V3l7G+B1pFHn/rafO4CMIknsJJ1qe5v8+ZO2v1hA5vEkxdeJWXkL8BzbOw54/Th3397tmm0q5SJ9mcdnMEXSgmx6WehYBbkvJvXRU+q6pY6Sol/gniRY/fYNKKuYjV4NE5FNNBLsklVpRJgV/ZYdRZg9hM6oM1spdZ+U0vVu7Z6w/gYdv7eM3FNJ/uGVy8jl61cG6MireO3Rtt+a3fz2r/P9PfIWuuca818fqL93rffUypzYJecRBVhCoWY5qwGfpStOANjbOUp9gOsfZswtU8DywAM08DOX9BXSQudP3UAhSjof+Bpj6SpeTzJTbV7hfzepubbues3ImG4oMM3uooiNXmXKopUOof8iKWT9dFLnfxHjF/eqUGoto3FYfw+NysgpRUb32w9UDll/jlIg0jslHQXjQ+drPJh/lvQJUrpjSJGxt+cBxaD+3UtJ+hTw5H7rGhXWMoqPArNCrxW8l6+fUbA5Hd5LSqP9sKROqus6L41dSAvy3yLduwuAtyjlefrggDJ6Pfro2q7r0TdSI/qNSQ907Wl2l6xrSav2jWz0kq4nuWU1Lm/Yz/RQV8kqVRLalNQxLrZ9W802lbpP/cL6L3eDXB6SXkOKO1gJeJ0rlJHLs6h+vApYy3aVvEf/Abyf9ADeQs8D6urRumuQBg+dEe+5pBHwvaR8/ot0S82Ldq8hZVQ8qPf4oLZ3SX8l1fbtmNvG+XBX8ZbSBKk5xkT5XYPKWlKRpLozjpFR9B2aTLO7ZPQtOFDVRp9HzVs3de/KsuaTqhTdkrdfTKrPOZDpJP9Nf+0sTkvaivSw/ynLqWzbK3WfsqzXkZKZQc2w/j5mrpeSgm9uzO2qk1OkU/bvE8DVpJxHl09+VV8537b9/qrXTSWStnWDmriaoAhKB1fI6aTxqTk6rENyOJhhe+2KzSuKxqfoONv2zypcW7w+haR9bH+6a3spUp6gWp5dQ6/oJb2SNPr7U97+NGlx6k8kP+VKC3A9sh/L+KizgWzrXdPhp1EgEVmWuSlpyvdK4NkkE8wOgy6GSrqQVCD51rzI+Oss45mkGqvvnlTAxHK7k2LNJOVyqX3PmzDRgmeHKgufkpYmZdD8KGmK/UXXiMnIsmYAV7lAgQk1zLXfI2tVUqHrXlm1TSclkPREUlLBF5Fs2ofWXWQs1J7eFB1vAv7gAVN0SHql7Z+XWpDPMg8Hfmf7i5IeBfyI5FSxd1VZMBqK/nJgc6diFTuQojR3JuXweIPtl9eQ+SpS9OcTSFkQ1yVl4xuoYo4mL4tW2y1NKTHWwaTC2dvbHjgyVuMDrb4C/Nv2x/NIYEHNxdhGSbFUKC/6BLKXBZ6cN69zBT9zJV/13YHfAF9yzfJsPTJPAD5UZRu00x0AABxYSURBVCF+AjmXkcwt8+lKoeAB3Cr7yDqP9BK7gi77fh3FUwKloJ//R3p29wO+V2I23JRsouxO0bEU6cX91JryGmUwzTJEcpG+AtgKONkVs2l2MwqLse66aa8lvf3nkyquV84MmPkcKaT4105Z+bYiuXkN2qCFFHnuHCtWNSlp4dz2jybZYw9VKlA8qB202zb8ElLVHmz/W/WLOTVKiuXyedEBUAqyOZJkshEpz/3bPHgekANIL/gtgBd03Z8m8RSrkYqWX8T4ZF1Vo34b5drvYTnbkwaZLS6UUh0/hzTA+jDpJbZy1wL4QIvWkwweOnLqDB6KpOhQVwZToFYGU41P9bI/aeB3LnCWpGe7RmZVGA1FL6W8GA+QbLLf6jpWq+wbyZRxl6SlJC1l+3RJld+Wkn5ACsd+GLiY1HH3t71fBTGl8mT8VtKPSJnzViPlhOkszNadFjdKiqVUG/ZfndF2XiTcDrixjo2+i68C23RMLdnccQxJkQxCqeyX3fxXITk/zwOYRrn2M0cr5bj5RQFZTUeqHeeAj5KCAmFscDKwN0ln8CDpc6S+fnSWswvw+CoN0vhkZNfkl7RJAZV1ArFKZDD9as/2PaTo369SP7PqSCj6r5OS+txHMq/MA1DKqFg3Hehf88vjLOD7ku6gaxRWgY2c0h7vAvyS5MY4nzQtHYgqC1qLYA+SbfHxwBZdpozHkcrT1aFpUqxTSAmjfi/pSSRf5e8DO0h6ru26bp/LdNvTbf9OKZHYQNRZTB5AZqn/Y8fO212Mu65b3YOkvrgXY6PgyrKUkrV9lwYjVduzq3znALzK4+Mwvp3NXlXSbRRPRuaGGUxdOKNqh6G30QNIWouUavcyj0V8Pp70wFcJTnoSKbhpAckHfynSSGBd4KSqdlBJV5Fymv+A5NlypmpGwEnanGRSeCqwLDAD+HsTO3YJNJYUC+BUV0uK9UjwTx6BrW57t2xfnz+oR1EfuYeRbM7fy7t2IXlu1CqcXIJh/P9JugHYzA2qeWU5F5KCf070WADVla4ZoFaCvP7wTVK8gUnrdrvZHjRnTkfODJIJt7GClfQT0hrigaRZwe7AHNs71ZS3PQunLd9n4ismZhRG9Di5HN7Ss6/OaP7rwCed05GSlMWRkp5BCsLpl/52Mg4m2YkvI9nQ1iXNPOpwICk3xo9JC6C7MrbYOJ1cQYo+dP5che5RxEvIMx3bD0qqW9wBkt/6bowF3pzNeJPedNDo/6fCufYz15NMno1pOlKdAt5MsmHvT+pn5+Z9lbD9sKR/S1rF9fJmdfO+3J61SPrqVFI/rYykg0jrdVuRZlOvp0Fen5EY0ZdCk6T9Vblw/1q1bSXNsz2nx3umSA6OuijlxP40yd4vUj74fWwfNuD13yPls7+FZNZaL3tPrQqcWWfm0yV7WZJrq6noddMl45WkmVyTl05HVqP/n6TP2v5MdqvrxXVmK0p5ZZ4GnM54G33VtBpFR6rDRvaYehYpy2f3Qvq0uaFqLO1F5/eKwC9tv7COvJEY0Rdk1UmOLT+oEElvsf09TZw2t7IfPfBAVl4LJH2ZtP7QJE1ACT4GPMs58lepwPd5pEx8g/AeklKYTVo87YwuN6KBfbSA102HN5EqlR0HHGb72rptYuz/d1md/5/tz+Tf72jQhl5+ln+a0nikqsI5XJRiOt7DwjECdcx3P6Vi0ZqethTNV5XppHd5QMmt+S4qLjZ3M/SKvnAHmSfpPbbHLSjmkWsV+3zH+6Sk++BbSYrhgyT3s3VIgWEDoVSoYLLOVsdl8C7g/q7t+/O+gbD9D2DfPvvPI70w6tLU66bTjrcoRVrvDByRvYsOB46xff/kVy9E5/+3G+n/tzYV/n8dlIJjXsfCCqyybdb2kWoQb9Alp1Gu/Uy/HC6PfAXVF5tPIJnsfk1DM1K+T8uTUkzUCZrrzlf1WVIKi6b8Is989yO5N5sa1cE6DL3pRtIfmaSDuEIuEaWc6MeTvBE6in0OafFsR9fMCVMCpao2T8qb1ztXu6lwfSddQWek1UkDuwtAHQ8XpSRdzyA9VAZeDVyef2pFAJeg2zwy2b4K8h5DUtR7kMr/PQn4hgeoGSrp1aR0zt/M2xeSHAcMfNwVUzFLOoUUR9EbMNXrdjeIrC3pmfkAA898pmikWgTVzFw7gaxXkmaYy9peTymyfB/XqHw2FebW/PJfrskawtAr+qlAKUCq4zFwle3fVrz+G5Mdr/IAKIXif4Hkuvgnxh7Iw4G9qo7A+nU01UwxqymKAG5KtmM/TEOvm6yk305S7EcBR9q+Q8n//+pBXAKVUibv5JyqQqlC1UtIroiHu2Ka4JLeLEr5k97cO/OxPdDMR2Mh/S8gmduOzdtvIN2f91Voy6T9zxUDgSR9HjjP9slVrptA1nzS/+yMpl5FdZ+1HhmPJQ3YOpH6VwHfdL1iPcBomG6KdpB8zemkBaq6VA5Hn4T9SCag9TrmgmxO+Er+qVomTZJeYPvcvPF8atr6PVbIeeW0Wdmc0duwxqHhmfdRxutmR+BrvSPcvGA8aDbFZT0+H9E52Zx4tyoGmGXOk/QM21U9nPrRNN7gSAClwuVbdJwMskfI2RXbMtmMpE4g0O7ApyT9k1RasElajX/ZvrfHq6jxAn0dlNKv/wA4gjT4gGSSvEjSLp3nurLcYR/Ra3xR8F7sGsmeSqMGFe0l/R54snv+Edm/91rbG1SU9xzSYmknnfM9wDvrvBAlzSHNLDprEfdmWVXjDR4JuLFdK+CmS1aRBGKl/KclXW/7SRMc+4Pt9QeU01ljWRrYALiB5ClTOy2DCsUbSLoOeJ7HitmsRipaXbuG6TChVJLwNyTPsNeRBhDLDDpj0fi0DI9mzKW18stH0gXA+91TyjCbkw72ABXG+jH0I/qmD+JUovEV7SXpTipUtM+4V8nnnQ/nxcFKZCW8sVL92U7R6bocBnzA9tkASpksD6daYRVIGQqbhoaTr31Y0nWSZrlBAjGX85++cIIF/vdSze95hwZtmIhS8Qb7snAxm72rCNAUxAnkF84GjA8oqup5BfAhUvTwP0mj6V8Bnx/0YpfN6bRyr5LP37FAFfJM9TL0in4qOkhBmla0B7ha0q7uqWok6S1AZXc/9RRRl9SkiPrDHSUPYPscSbWyDbpswE2pBGJ/A66Q1MR/+sPAzyS9mZz8jTTVfhSpHsBAeCwN9/rAzbb/mfvTMxmbwlciyziQ5B9eO97AKUX1L0k+9ACfqOG48GJSPEa/oERT0b0xe8rtTvJuWkBKUng+9XLBPMX2XtRPFVISSVrNPaUVs/dhbXfrUTDdFA8kKYX6FwOulAJBKb3DT0l+s92eQMuTPIFumejaCeQVKaKeZX09t+MY0sP4JlIK5e/B4OsjKh8a3rcghivmm1HZ/OEvoWvxrOoCf5ecBaT//2zgZJLH09Nsb1dD1pY087p5iu1rJ1onq2MOLEU2dW1KMiFtopQC+Qs1+/nppJxQPwGOtX1l2dZWastcUnzARxk/cPgSKdbj4Fpyh13RDzNqWNG+R1a3orja9m9qtqlkEfUi6yNK5fH2B15GUjinkorGlCjBuAZwVz/z1yKuK5bjpCQdrw1JHwf+YfuAui57BbxuDrE9d4J+UGl9TBMHF3aEVXLVVY5yzy/G5+bZy1UesKZEH3mPA95IGsysTFL4A5tvSqJUd+PjJH1gUuWz/Wz/vK7MUTDdFO0ghXknKUDip6R/yNl5X2XyCLDWKLCHYkXUSylBlwm4QSlx2L6kesGfI71g1yAVw97V9ikV2lQyx0lJ/iVpZ1KunI6ZY2BPmR6aet3Mzb9L9INu+/J7SXmimnCzUkDRz4DTJN3DWD75ymRT1DfyS+3jpNQf06Lobf+ClFq6GEM/otd4X+6FOoinwZdbKbjpfST/6ytIU6rKts+pIK/OH8n4Iupvc4U6qH1ergb+QnIdHLiMoAoH3EiaRypBtwppfWRb2xfkafsxVUe9Gs4cJxuR+tb5to+RtB7wRttfqiGrkdeNUnnLmzr2eEm7MlbGc2/Xz2tfNKgom/JWAU5xvdrITyWN5F9Hivz+EfATV/Rbz+uIXyIFzIlmLp9FGXpF303pDtKgHceSfHfPBrYlFdLYY3pbNR41KKKu/oFSq5M8Z/a2/cMB5RQLuMnyHjFBSbrGXaXe6vSNkjb6YUQponI3UiUtyF43tv858VXjrr8EeJntu7OX1A9JHiqbkErvvb5mu2oHFalwzpws8wJS3eczgItdMSq9S871wCttX1Pn+qlk1BR946izQu3ozrO+NHDRMLQLFva6AZp43fTKXp1k1670t+YHqTvgZhngbNubV5TzyP+/ty/U7RtqluOkOJI2IBV134jxboN1Co80bcsjjgWSvgnc6Vycuu66T762iaIvmRKlOyq946rbJCr9XA9YT3lxM/Q2+iHlkQ5g+yHVr8n6CAWnfYeRvG7emLffSuq4lb0Reskjuzp/7GqkBa7OaGvFvK8qG0u6j3Rvls+fyduVy0qqK8cJsJ4a5DgpyOGkF/XXSLnI30FFtzqVS3A3Q2Npt18KzO06Vkl39LTpSZI6psRKAWG2S5aBLB2VPi/P9n/G+LTQA7uOTtWa5NAr+lIdpDAb9yiZ5bsUUF2b3JcpM+1b33Z31sTPZs+ExijlCLpnkScuTOOAGwDbM2p892TsDWxGmrJ3glIW+8i5h+Vt/0aSnHzr987eM1VK5JUKvjoGOFPSX0gL+p3AuSeRoqSrUDwgTMk1eV3GZ/msEjC1Az1R6U6lQd9PimGpquhXJkXFbtO1r2qMQMngq0cYekXP1EQMNmIKFA7A7YVse429biYYEa4O3EryBqmEywTcTAVDk+Oki39KWopUZ/eDpPzvK1YR4D41ceu4odr+b0m/IeVBP7Xr2qVItvpGbWqCpC+RFlCvZiz4zqQ60BWaVTQqvXEtgalyLhkpG30b0VjE74tJQRu1p31ZXgmvm3V7dpmkJCoVUNcQB9wAjXOcTFGbNiWlSl6V5EK6CvBl2xdUkDGhGyopRcfAbqjDilL+nWcOurA8gYyfAT91/6j0N1Y14Ulam1Q3uGOnP5sUL3JzjbYtB7yLhWvG1nLfDkU/zah/xG8H1/7HNvC6KYUKBtxMBUrpiPdibKr9K+Dzdb0uGrblMlLd03NJ6XcHdmPtI6uoG+owkmeIb3CNRIJdMkpHpZ9GypXTHUC5i+2ta7TtxyTz0ZuBfUiusdfYrmpOSvJC0Q8H6kotPNm+AeT8AbiANJo429USrC0R9ImDONQ16vwWbtPTSTmSOj8rkHK3dBT/hRVkFXVDHSa6YjPWAjYmzchq18PNMocxKv1S28/SWM3YWp5qHUbBRr+kcADQa+Lot29RbESyhb8Q2E/ShsDlrpGWoSlTFXBTgCMZHwfxVFJ1qWnDKb/KlaQReMemvlNu11eAKutC3esMvesz0zKym8QTqKpTRads33xyNtSmuFxU+l3Z7HNM3t6ZCqU3e+h49v01DwJuI3nk1WLoFX3BDjKUSHoeaQQ3s8e1amWqPdwdHiZ1kodJD/wd+Wc6OJiU34YccLMvYwE3hwC1Am4KsFFXHMShVEsnPCUo5d55FqkvvABYn7QQ+13SyL4Kpd1QS7j+FnGq8HAHs72TNDj7GklnnUeqYFaHQ5TSMP8/0gttReC/6jZs6BU9Q+h1U5hlSf/EpRnvWnUf9RThfSRzxP8A33GBxGENmNE1an8TcIjt44DjSrl81qR4HEQB7id5kHwT2LOJjX4KvMIau/52e93kxf4NbP86B6xV1kMTDADvJY34Pz9N/X7t3gXc7PV20wTn9yV7Xd3nlKr4LKoXTl9Y5ijZ6Pt1EDcsbzcM5NHcj3r83+vKejUp5H0zUhH084Cz6todG7blSmCTrEyvBeZ2/JxVsDZqjXY9zFhuG5EW3x5gGnOTKCUyex4pJe3DwMWkkfz5VRcFp6BtxSI+Jb2HFHi1uu31cyTwQa5eW/fLpPv0g7xrJ1J1p9tIUdj98t5PKf0ifutGAUuaZ3tOsbaNiqIv1UGGFUnn235eQXlPIdmf9wAea3v5UrIrtGEvYDtSQrRZwLNtOwfcHFlKebSN7A20GcmM8w5SXdpel9fF0Y6irr9Z5gLS33ahxwpxP5JSpIKcCZVqHXlN6DK/7kEy23RYmeS9M3B9ii6Z+5Kem2MZn3Cv1rrWKJhuOuxG7iAAtn+vVC29LSyQdCLwY8b/Y6v60R9H8kb4A2natyv5ni1uSgbcLAkoFRN/LmN2+k1J0/5aBaEL0D0qbhrx2eGfth/smMuU8s3UGW3OkLSZ7YuynE0ZW9Na3B5Upc2vkEydkPReB1PTjDNKir5UBxlWliOt0Hf7ltd5mL4IXGq7Sam+YvQL9LH9u+loyzAj6VJSQq15JHPbV0nVk2r7iTelE+k5ketvTbFnSvoUaZF4a+ADQJ2CGu8GDpO0Isnkdh/w7vyy/GLNttXCqbLZmZKOKBgB/NTeeI7sFlyLUTLdfBn4K2mE+iFSB7naqdZjkMnT/o+QMjLOzSauDZ2KGQRDiqRnAld4CB/IwrZnkZT0NiQF/Svgu3X/bqVsrXgIiscoVfD6KKkMZHf+ncqBgSXvOYzWiP4TpA5yBakAyckk17NWUDB8+nCSj3GnQPktJHNQKPohxhVSVCwuSrv+ZqeDq2w/BfhOzTa9xfb3etpDZ6bv6a0492PgIJJeqjWjVippuBZpxvMseCQd88qkxeZajISiL9FBRoDDSR4Eb8jbb8n7qoZPr2/7TdmLA9sPaEj8B4ORo6jt2SlZ2HWSZtn+30Vf0ZcV8u8pyfLYkIdsf7uhjJeTfO/XJrlId7iflNaiFqNkujkB+FCDDjLUlAqflnQeKXf4udkDYX1SfpPNCja3EoUCbpYIJD3KPYm6+u1bzG1at5TtWdJZpMCwixjvdDCdNQCKIGlvUnDi8Yz3TqpT9ep1OeakTNtGSNG3toMAZO+UwxkfPv2OGv7FW5Oi6TYCTiWZgt5u+4xyra2GhrjE2rBR2jZbqE2n08fxoabt+cX99ucFzUGu/8Zkxz299X77BbnZNaqDKZWBfB0L2/v3qdO2kTDdZGqH/44I/cKnK+e3tn2aUq3PzUkj591t/6VkQ2tQKtd+a5kq22whPtr1eTmSAqrswphNsAdnE2xd5nd9/iypGtdQ4LLVr04gRfrOp2t2UJeRGNH32OiDRZA9OGYzfiRQx+e5aTuKB9y0FaVC5W8npcmd13XofuCIYbtXki6qYw4saYLVEGbiVEpA1lvv96iJr5hQTtHI8ZEY0RdaxBlKJE1WIs62P1dR3mHAM4GrGMtiWDe4pSlTEXDTSpySdR1Z2jZbAqWi8B2WIqVpWKWmuNWAqySVMMEO1ShV0meALUmK/mRSZPo5QGVFD5wn6Rm2ryjRtpFQ9JmSHWSY6Fe1aQVSdZnHkCoEVWFz2xs1blUBpijgpu38QtKbKWSbLcR8klIVyWTzR1L/rEObTbCvJ0WlX2r7HZLWBL5XU9YWwNuz3f+fNMzWO0qKvpUdxPZXO58lrUQqSPwO4Iek6MiqnC9pI9tXF2piCUrl2l8SKGqbLUFJ2/Ogi64TIel+xkbyj9b4FMzT7cn1D9v/lvSQUoW3O0jRznXYtmC7RkfRN+0gw0yeGn+EVC7sSFLyr3tqijuKpOxvo8BIoAmlA26WENa2/YrpbkQ3StWN3g+8KO86g7So+q8JL1pYxjm2t+hR1FBRQdseRv/5DvMkrUqK9ZkP/I3qtQSAlNZZ0hakbL2HS5pJxSLx3Qy9oi/VQYYVSfsBryUV4nhGgdwmhwJvJUUQ/3sR5041U5Hsqe0Utc0W4tvAMsC38vZb8753DyrA9hb59zAr6kbY/kD+eJCkU4CV60Y8Z3v/HGBDktv1MiQzUC2T50h43bQZSf8mjbwfosCLTIXTHZegZMBN25F0NamWbRHbbKE2XeaeVLv99g0oa1a//W1wspD0m964l377BpS1gBQ3dInH0jlf3nobfVs7iO2lCou8VNIPSBkBh8WV8QhJRQJulgCK2mYL8bCk9W3/AUDSE6mZywU4qevzcsB6wHWMFeceOXJWyUcDayiV/+uOgVirptgHbbvz3OSsnLUZGUVPCzvIFLE8ScEPkytjkYCbJYRhnGJ/DDhd0g0kJbYuNYL5ANxTEETSs0mZaEeZ95KKjjyBZJvvKPr7gANryvyRpIOBVZWKLr2TBnm+RtZ00+kgtge2EwbDQ92Am7ajsVqonULe6wHX2Z7WAU0Oyd8wb15XMveOFnNFqKlC0odsH1BQ3tZ0pXO2fVpdWaM0oh+H7UskPXe62zFsFEx3XLJNJQNuWs0wjXiVqjbdZPs22/+UtAlpNvYnSXvXTNbV7X21FMnF9tYyLZ4euu7TAXl7V/J9AirdJ6Uym2vaPjcr9tPy/i26zWdVKW0fnjIkfaTr56PZDj3SHWSKOBw4kTSNfALJVn/4tLYoTWfn5d/nA/9J/YCbJQrbl5DKC04HB5MKzCPpRcC+JPfde0leYnVYqevnUSST7Ksbt3R6KXmfvk4y+fRybz5Wi5Ex3WR3ow4PATcCx7mn3NaSTql0x8H0MMGI9zG2Xz4NbXnEs0bSN4E7be+dt6NPZUreJ0kX2950gmO1TVwjY7qx/dnpbsOIcJektzA+3fFd09ieIgE3SxDdfuYPkUa805X7ZoakpW0/RKpxMLfrWC3dIennTLLgPKIpTUrep1UnObZ85ZbVbMS00dIOMhUUSXdcmMYBN0sKnQGNUtFrCgTQNeEYUtHrvwD/IK33dOzIdWu03kDKZNrJAbMzcDsps+moUvI+zZP0HtvjPGwkvZvxKZorMUqmm/2ZpIO0OUXCqFMy4Kbt5DS3RwOdBey/AG+zfeU0tWdz4PHAqbb/nvc9GVgxrx9UlTfP9pxF7Rs1St2nnAjteJLNv6PY55CizHe0fVut9o2Qom9lBymFpAOYfMYznZV3LgHe0BNw8xNPY9WkYUWpFORetk/P21sCX7D9/EkvHBEkXQNsb/uGvL0ecLLtp05vy4YLSVsBnXz0V9n+bRN5I2O6AVaQ9MSeDtIoWqxldBerGKrKOxQMuFkCWKGj5AFsn9E0KnLI+DBwRk9fmDv5JUseuQ+cvsgTB2SURvSvILkqjesgtk+d1oYNIRrOyjtTFnDTJiQdD1xCMt8AvAV4ju0dp69VZcl9oVMt7troC1PPyIzobZ8iaQOigwzCULy9pyLgZgngnaQZWSdlxdl530jTpy9sTPSFxcbQj+i7O0jerh11tqQg6ZJhsH9n2/zLbN+dA0l+CHwI2AR4qu1IVbyEEH1hehkFRR8dZADUU3mHVKMVpjFvfwTcDI6kEyc7Puruw9EXppdRMN3M6Bq1vwk4xKl48nE5Z3PA0BZ0KB5w02KeB9xE8sm+kLEMiG0h+sI0Mgo3ODrI6DIVATdt5XHA1qT4kDeTImKPsX3VtLaqHNEXppFRMN3sBWxHChyZRaqn6txBjrRdq7RWsHgoHXCzJJC9UnYG9gM+a7tuTvOhIvrC9DH0ih6igwRLBlnBb09S8rNJWUgPs33LdLYrGH1GQtEHQduRdBQpEvJk4IfTlfIgaCeh6INgCFAqEv/3vNm4SHwQdBOKPgiCoOWMTIWpIAiCoB6h6IMgCFpOKPogCIKWE4o+CIKg5YSiD4IgaDmh6IMgCFrO/wfGzxNwexaZhgAAAABJRU5ErkJggg==\n",
      "text/plain": [
       "<Figure size 432x288 with 1 Axes>"
      ]
     },
     "metadata": {
      "needs_background": "light"
     },
     "output_type": "display_data"
    }
   ],
   "source": [
    "speed[\"neighborhood\"].value_counts().plot.bar()"
   ]
  },
  {
   "cell_type": "markdown",
   "metadata": {},
   "source": [
    "Squirrel Hill has by far the most speed bumps."
   ]
  },
  {
   "cell_type": "code",
   "execution_count": 22,
   "metadata": {},
   "outputs": [
    {
     "data": {
      "text/plain": [
       "<matplotlib.axes._subplots.AxesSubplot at 0x7f8f39ca2e50>"
      ]
     },
     "execution_count": 22,
     "metadata": {},
     "output_type": "execute_result"
    },
    {
     "data": {
      "image/png": "iVBORw0KGgoAAAANSUhEUgAAAWoAAAFBCAYAAABes+UWAAAABHNCSVQICAgIfAhkiAAAAAlwSFlzAAALEgAACxIB0t1+/AAAADh0RVh0U29mdHdhcmUAbWF0cGxvdGxpYiB2ZXJzaW9uMy4yLjIsIGh0dHA6Ly9tYXRwbG90bGliLm9yZy+WH4yJAAAgAElEQVR4nO2dd7gkVbW338UMOSMjeRhAgoDEAUkqwkWyXkUlGkAdroKCiooZ4RMRRUXAAAiKIIICFxHJSM4zDElAkSCYEARFvILg+v5Yu+bUOdOna1dX9zk1w+99nn7OqepetXdXV63ae+0VzN0RQgjRXuYZ7w4IIYTojhS1EEK0HClqIYRoOVLUQgjRcqSohRCi5UhRCyFEy5k4iIMuvfTSPmXKlEEcWggh5kqmT5/+hLtP6vTeQBT1lClTuO222wZxaCGEmCsxs0dGe0+mDyGEaDlS1EII0XKkqIUQouVIUQshRMuRohZCiJaTpajNbAkz+6mZ3Wdm95rZ5oPumBBCiCDXPe9Y4GJ3f6uZzQcsNMA+CSGEKFGpqM1sceC1wLsB3P154PnBdksIIURBzoh6FeAvwKlmtj4wHTjI3Z8tf8jMpgHTACZPnjxr/5RDL+x68IeP2rnr+93kq2SFEGJuIMdGPRHYCPi2u28IPAscOvJD7n6iu09196mTJnWMghRCCNEDOYr6MeAxd785bf+UUNxCCCHGgEpF7e5/Ah41szXTrm2BXw20V0IIIWaR6/XxQeCM5PHxILDv4LokhBCiTJaidveZwNQB90UIIUQHFJkohBAtR4paCCFajhS1EEK0HClqIYRoOVLUQgjRcqSohRCi5UhRCyFEy5GiFkKIliNFLYQQLUeKWgghWo4UtRBCtBwpaiGEaDlS1EII0XKkqIUQouVIUQshRMuRohZCiJYjRS2EEC1HiloIIVqOFLUQQrQcKWohhGg5UtRCCNFypKiFEKLlSFELIUTLkaIWQoiWI0UthBAtZ2LOh8zsYeAZ4EXgBXefOshOCSGEGCJLUSde7+5PDKwnQgghOiLThxBCtJxcRe3ApWY23cymDbJDQgghhpNr+tjK3X9vZi8HLjOz+9z9mvIHkgKfBjB58uQ+d7M3phx64ajvPXzUzj3LVsk3kRVCiJFkjajd/ffp7+PAecCmHT5zortPdfepkyZN6m8vhRDiJUylojazhc1s0eJ/4A3A3YPumBBCiCDH9LEMcJ6ZFZ//kbtfPNBeCSGEmEWlonb3B4H1x6AvQgghOiD3PCGEaDlS1EII0XKkqIUQouVIUQshRMuRohZCiJYjRS2EEC1HiloIIVqOFLUQQrQcKWohhGg5UtRCCNFypKiFEKLlSFELIUTLkaIWQoiWI0UthBAtR4paCCFajhS1EEK0HClqIYRoOVLUQgjRcqSohRCi5UhRCyFEy5GiFkKIliNFLYQQLUeKWgghWo4UtRBCtBwpaiGEaDlS1EII0XKyFbWZTTCz283s54PskBBCiOHUGVEfBNw7qI4IIYToTJaiNrMVgZ2BkwfbHSGEECOZmPm5bwAfBxYd7QNmNg2YBjB58uTmPXuJMuXQC7u+//BRO/cs30S2Sn68ZKvkBykrxFhROaI2s12Ax919erfPufuJ7j7V3adOmjSpbx0UQoiXOjmmjy2BN5rZw8CPgW3M7PSB9koIIcQsKhW1u3/S3Vd09ynAHsCV7r7PwHsmhBACkB+1EEK0ntzFRADc/SrgqoH0RAghREc0ohZCiJYjRS2EEC1HiloIIVqOFLUQQrQcKWohhGg5UtRCCNFypKiFEKLlSFELIUTLkaIWQoiWI0UthBAtR4paCCFajhS1EEK0HClqIYRoOVLUQgjRcqSohRCi5UhRCyFEy5GiFkKIliNFLYQQLUeKWgghWo4UtRBCtBwpaiGEaDlS1EII0XKkqIUQouVIUQshRMuRohZCiJZTqajNbAEzu8XM7jCze8zsC2PRMSGEEMHEjM88B2zj7v8ws3mB68zsIne/acB9E0IIQYaidncH/pE2500vH2SnhBBCDJFlozazCWY2E3gcuMzdbx5st4QQQhTkmD5w9xeBDcxsCeA8M1vX3e8uf8bMpgHTACZPntz3jgrRNqYcemHX9x8+aufWyVbJD1JW9E4trw93fxr4JbBDh/dOdPep7j510qRJ/eqfEEK85Mnx+piURtKY2YLAdsB9g+6YEEKIIMf0sRzwAzObQCj2s93954PtlhBCiIIcr487gQ3HoC9CCCE6oMhEIYRoOVLUQgjRcqSohRCi5UhRCyFEy5GiFkKIliNFLYQQLUeKWgghWo4UtRBCtBwpaiGEaDlS1EII0XKkqIUQouVIUQshRMuRohZCiJYjRS2EEC1HiloIIVqOFLUQQrQcKWohhGg5UtRCCNFypKiFEKLlSFELIUTLkaIWQoiWI0UthBAtR4paCCFajhS1EEK0HClqIYRoOVLUQgjRcioVtZmtZGa/NLNfmdk9ZnbQWHRMCCFEMDHjMy8AH3X3GWa2KDDdzC5z918NuG9CCCHIGFG7+x/dfUb6/xngXmCFQXdMCCFEkDOinoWZTQE2BG7u8N40YBrA5MmT+9A1IcTcxJRDL+z6/sNH7TwQ2Sr5Qcr2i+zFRDNbBDgHONjd/z7yfXc/0d2nuvvUSZMm9bOPQgjxkiZLUZvZvISSPsPdzx1sl4QQQpTJ8fow4HvAve7+tcF3SQghRJmcEfWWwDuAbcxsZnrtNOB+CSGESFQuJrr7dYCNQV+EEEJ0QJGJQgjRcqSohRCi5UhRCyFEy5GiFkKIliNFLYQQLUeKWgghWo4UtRBCtBwpaiGEaDlS1EII0XKkqIUQouVIUQshRMuRohZCiJYjRS2EEC1HiloIIVqOFLUQQrQcKWohhGg5UtRCCNFypKiFEKLlSFELIUTLkaIWQoiWI0UthBAtR4paCCFajhS1EEK0HClqIYRoOVLUQgjRcioVtZmdYmaPm9ndY9EhIYQQw8kZUX8f2GHA/RBCCDEKlYra3a8B/joGfRFCCNEB2aiFEKLlTOzXgcxsGjANYPLkyf06rBBCzLFMOfTCru8/fNTOWcfp24ja3U9096nuPnXSpEn9OqwQQrzkkelDCCFaTo573pnAjcCaZvaYmb1n8N0SQghRUGmjdvc9x6IjQgghOiPThxBCtBwpaiGEaDlS1EII0XKkqIUQouVIUQshRMuRohZCiJYjRS2EEC1HiloIIVqOFLUQQrQcKWohhGg5UtRCCNFypKiFEKLlSFELIUTLkaIWQoiWI0UthBAtR4paCCFajhS1EEK0HClqIYRoOVLUQgjRcqSohRCi5UhRCyFEy5GiFkKIliNFLYQQLUeKWgghWo4UtRBCtBwpaiGEaDlZitrMdjCz+83sATM7dNCdEkIIMUSlojazCcAJwI7A2sCeZrb2oDsmhBAiyBlRbwo84O4PuvvzwI+BNw22W0IIIQrM3bt/wOytwA7u/t60/Q7g1e5+4IjPTQOmpc01gftHOeTSwBM99reJ7Hi2PSfKjmfb+s5zhux4tj03fueV3X1Sx3fcvesLeCtwcmn7HcDxVXJdjnfbeMiOZ9tzouyc2m99Z52vufE755g+fg+sVNpeMe0TQggxBuQo6luB1c1sFTObD9gD+NlguyWEEKJgYtUH3P0FMzsQuASYAJzi7vc0aPPEcZIdz7bnRNnxbFvfec6QHc+2X1LfuXIxUQghxPiiyEQhhGg5UtRCCNFy5mpFbWar5OwbQLsTBt2GCMzsbTn7ushvmbOv35jZ/Dn72tZu0/PdK03a7cN37kmPmNk8Zvb23Ha60sSfMNNv8Ms5+0aRXQO4Arg7ba8HfKZG2zM67JteIXMB4dXS8ZXZ7oPAV4C1ezhfV+TsG0X2hzn7usgvA3wPuChtrw28Z1D97tO57vQbz7ZvEPJNznfDdg3YB/hc2p4MbNrW8wVs1O01BudrEN+5qx4pfa6Rz3bxqvT66APbAZ8YsW/HDvs6cRLwMeC7AO5+p5n9CPh/3YTMbC1gHWBxM3tL6a3FgAUq2vxq+vsWYFng9LS9J/DnjD4DrE+4MZ5sZvMApwA/dve/d+nzAsBCwNJmtiRxMxZ9XiGz3XVGHHMCsHGmLMD3gVOBT6ftXwNnEcq7Iw373fO5NrMdgZ2AFczsm6W3FgNeqGgXM9sc2AKYZGYfGSGfOyOqfb7NbFnivCxoZhsy/HwtlNnut4D/ANsAhwPPAOcAmwyq3Ybn+5j0dwFgKnBHan894DZg80G024fv3ESPFFxuZocQ99GzxU53/2umPJDhntcrZvZ+4APAqmZ2Z+mtRYHrMw+zkLvfYmblfZU3IRHCvguwBLBraf8zwPu6Cbr71QBmdoy7Ty29dYGZ3ZbTaXd/hnjInGRmrwN+BHzdzH4KHOHuD3QQ2x84GFgemM7QRfV34Phu7ZnZJ4FPERdk8TAw4HnquQMt7e5np+Ph4Zr5YoVMz/1ueK7/QNzkb0ztFjwDfLhCFmA+YBHiHli0tP/vRDTuqDQ839sD7yYCx45h6Hw9k46Zw6vdfSMzux3A3Z9KMQ6DbLfn8+3urwcws3OJEfRdaXtd4LBBtUvz79yzHimxe/p7QGmfA6tmyieJPgzLRxnyLw5MAc4EVi69lqpxjIuA1UhTD+IGuqiG/OYN+n8vsGppexXg3kzZCcSFdR5wO/ARwqzwVuDXFbIfbNDnLzX8za4CXlY635sBV2fKNul3k3M9b/EX2BB4ec22Vy79vyTJZXXQ5xvYrYHszekaK36nScDtg2636fkG7snZN4B2m37nnvVIv16DO3BMLeYtba9JPAHfUuMYqwKXA/8kwtavK99YXeTeB6ye/jfC9PA34E7ybWI7AL9Lyutq4GHgDZmyDxLmgi06vPfNUWQ2AZYtbb8TOB/4JhUPN+IBuHhp+/XAsel8z1fjfG9MzHb+lv7+GlivQqbnfjc518B3gHXS/4sDvwLuStfJnhltfg5YK/0/P3Al8FfgceC/BnW+iZHZyiP6cQdhl18l83ztnT7/GPBFIgHa2wbZbtPzneTOBE4Gtk6vk4AzB9VuH75zIz1CDHo+SKSJPgE4MPeemO1YvQhl/ijXlL7kK9JNcByxOHhU5jEmpL8LA4vWaPtuhp7AexFTppcB/wVcW+M48xP25vWB+WvILdLD+ZpR/IjAa4kp327AEcBPK2RvBpZP/29AZOf6KPADSgm1MvsxkbDLrUvpQTuIfjc515RGYoTp5X/T/8uSMboE7mEo4Gsa8ZCYALwSuGVQ5zvd5Aul/3chHoYbA+8FLqlxvtYiptMHAq/M+Hyjdpue7/TZBYiH2Xnp9WFggUG124fv3LMeSdfRH4l1n4NS33+Q7o+1cn/nWcerK1DjQrqr9P8RwAnp//nK71Uc43eEzW9b6k1JZ5b+/xFwUGk7d6X4TuCTwGo9fPcF0k30LeIpfAoRet9N5o7S/ycAh3X6PqP1tfT/V4Gj0//zlN/L/M6fqvOdm/S7ybku36TAhcC7O72XKX8OsH/uNdLkfI84X6cAn+jh2vwmHWZrg2y36fnuctwtB9VuH75zz3oE+Cnw9g77dwPOqXueBulH7aX/twEuA/AoPvCfzGOsRZg+DgAeMrPjzWyrDLn/mNlyySNh23SMggUz294VeBE428xuNbNDzGxypuwPiSf+9sRUfkViAaIbE8ysWNzdlpiKF1Qt+pZXW7chZi24e+55LtiVWKyt852b9Lvcbt1z/bSZ7ZJW87cELgZIfcn5jZ8zs3XNbBJhuri09F6VR0CT821mtkjyBtq2kE3kehJMBz5jZr81s6+a2dRKiebt9ny+zWyCme2Zftd1075dzOwGKhacm7RL8+/cRI+8yt3PHrnT3c8hZqv16PVJmPE0Op0YbXyYcLUqpiBLUHrS1TjeksBpwIsZn92FsGH9CTiptP91wIU9tL16btvlJz1pdEUsgNxUIfNpwi58PrEAWUzLXwFcXyF7LHB2+vsQQ9O15ejRjzP3Ozfpd8N21yBu2pkMH2VtDxyT0c6rgfuAJ4HPlvbvRLXdtOfzDewHPECYjC4u7d+QTH/5ksxShB31CuA3g2y3yfkmpv9XAF8iHuSnp3P/3wNut+l37lmP0GXE3e290V4DS8pkZgsStpnliGn/HWn/FsQU94eZx3kd4eKyA+Gmc5bHU6lKbiJh136qtG9hQpH8I7PtlVPbuxMjvrPc/ZjuUmBmt7j7pmZ2DeGi+CfC7tnVJcfMNiPO16Xu/mzatwZh857RRc5SH5cDznb336f9xer4JdXfdtaxan/nXvvdtN3xoun5NrMVgJcTA5b/pH3LEQr/dzX6sWnqx5sIL5ldKz7fl3brYmZ3E4vS/0mj0z8ROuDJQbVZarvRd+5Vj5jZY8DXOr0FHOzuK3V4b/R+DEpR9wMze5gYpZ1NRKo9212ir23fTIyEf0IojQdryL6XsHuuRwSQLEKM2r47iL72iybfeU5sd07FzI4G3gz8lgikOM/dnx7fXo2Omc1w941G254bMbPPd3vf3b9Q63gtV9SLeYrmM7PViJXXPdx9ne6SfWl7TXcfre7jaDLfAG4gpvxzXBWc8ndOo4Y3Ey5QO49Vu6IaM9ufWJB6Im2vRNwXXxnfnnXGzP5JmCAgRpSrpW0D3N3XG6++zSm0XVEvT0zt9gJeRdi4zvUU2TSgNj/S7X137zSdKWQPJMKSt0i7bkiv6ylNvdpKim7bmTjf2xOzgnPd/YIBtdfzuX6pkxZB30aE2y9PjKoPGd9edSaZtUbF3R8Zq77MqYxFrg8AzGwhd/9n5menERfgCoTZ4z3A+bWnCxGyWiQZylWSi1Z/pDPufjxpFTs9ZAql/WEiemyxnOOkC3t1d7882foneoSl58jOR3jLOHC/h5dNlcwbiPP9BuCXxGLeJu6+b06bDfrd87kutbkMcCTh17yjma1NRJKNmp+kwzG2IKJoZ90P7n5apuyCwOTcGYGZLdXtfe+SA8LMFiXyouxFLLKdSwRurDjIdpN8zw/Vfihii2x3uzH773R4F5lG37l0nMPd/XOl7QnAae6+d458Pxi4ok43wcmEnXayma1P+Kx+oIvY8cCNwF7ufls6Ti9D/28B+wLfNLOfAKdW3VB1HwYjSQtNryIU9JZEBrrfEMovR/59RADGUsQUcUUiOmvbDNmd02d/S0wrVzGz/d39ogrRi4Frga3c/aF0rGNz+tuk303PdeL71EwkVcbMfkj0dyaxiAnxkKv8vcxsV8KzaT7iXG8AHO7ub+wiNj0d34isd0+l/5cg4ga6pc98HLgF+Axwnbu7mb25qp8d2h2JU517oniorklEoxZ1U3dNfRo05xNRgdOB5zJlmpzrMiuZ2Sfd/UvpgXE2sXZWiZmtUtxT3fZVUtdNpO6LiOJaieGO63dXyLwM+B/CB/l+ImDm0QZ9WDwd71HCFLEvo0TdEf6V7yJydRjwceDnhCvW0hXtXJa+73dTG5URYx2OMZO48cvnKzdA6D7gFaXt1YD7MuQ2AI4iFPxlxAzmkUH3u8m5Lh3j1vS33G5WoE367L3UCKYaITs9XVu9/FYnATuVtncEvlshczBwExFC/an0+z7YS997fRERx4uWthcFrhmDdrvqjH6f6xHyRgS8fJLwtz+4hmzPKVLLrzEpHODuj47Y1TUjm7s/6e7fcffXESOyp4E/m9m9ZnZknbbN7GVEBq33Ek/BY4k8uJeNInIaYQLYjwgrXpkY4T9DjN668SARzLN6er3CzJau01/gOS+ZK5J7UO5s4hkfnpnvQaoDbXD3me5+qLuvBnyeUNzzmtlFyQw1qH43OdcFz6bf2FO7mxEjr1zuJoKTeuHf7j6yrdzfajN3/8UsoZj1bNHl87j7N9x9M8IdD+B/geXN7BPJHbISC/Yxs8+m7cnJzS+XZYgsgQXPp32D5gYze1WPsrXPNYCZbWRmGxF+18cS62W/Aa5J+7vJrmVmu5FSpJZe7yY/sGkWY2GjfjSZP9zM5iV8q+/NFXb3x4gUhceki3GPXFkzO4+Yqv0Q2NXd/5jeOstGT6O5truvmxTNY+lhAXCxmd1R0df9U7uLEZnntgAOSAs/d7v7uzK6fbWZFSk0tyP8sLsu5tlQrtzbzOwXxNTMicWmWzPaLH+HG4ib4iAip8Ee5KVKrd1vGpzrEh8hpuGrmdn1xFpA1zSlI1ga+JWZ3UJpSu3dzRcF95jZXkR05urAh4gZWw5/MLPPMJSDe28iD0QlHu6LRwJHWkT67Qn8gggyqqKcy/oIMnJZj+A04JZ0bwH8N5kPVYvKOYcRD+SJDHl95KT83Ap4t5k9RPxOdTxGej3XI/34nyJMmccQ99c2XWT7kSJ1FgP3+kgjymOJm96IqcNBPmBnd4uw0U+5e9ciAx3kZvl49ur/mexYmxA26i0Ipf24u1eOCJKN+73ESNOAS4hEP6P+UGZ2apdDurvvV9VuU9L5fg/1+t34XKfPTiRuDCMWUP9do9+v67TfU67sCtmFCNt4+Tsf4e7/ypBdipi9vDbtugb4gtdMKF+X4rya2e3uvmHad4e7r1/jGBsBr0mb17h7rr32PmJhfTqlWXWOLhjNc8QzFirH61yntjd39xsbH2fQino8KV+MNWQeB35M3Hi7p/9J229391GneWb2dUIxr06YWW4kXPNu9IyAhLSafI+7r1Wnz3MqTc516RgHAGcU59eiysye7v6tGv1YhqER5S3u/nj+t5izsAgu2oKw7W+UZnuXVt0n/fCgMLOb3f3VtTo8XH59hh4Q13qKdh40ydx69Ihr7KPu/pkM2TWAbwPLpNnjesAbaw8gx2BEPYkY6k9huFvNWIzyvkooy3O7jexGyHQ1T7j7D7rIfohQzDPdvaoyymjHOJ9Iwl87pNfMViRSyRbFWa8lZi+P9dKXzDbvootdttvUtMm5Lh1jprtvMGJf9gPaovjoVwgbuRGK4GPu/tMM2TWAQ5j92u42JW4s2wQz25t4KG5EpN18K1GH9CcVcg8xu9dIsZ1lvjCzo4hUsucy3MxUmWYgmeLel2QhgrFOdPfjushcQPdrM8e81fF6qjG7vppUTrA0g7nb3WslZhoLRX0DoTBGTndGzddRZajP+WHTcZ4hclm/APyLoYsqy595PLDID7Ih4fJUrrFWeVGZ2WXE6nSRR2UfYG933y5DtqfRfGlKWpQaKrft7n5onePVJT0o1isexOl73OmZ0avJFr5dMYpOA4vLc0wBSfY7zH5tTx9VqD+y2wI3uPv/VX12FPm1SKmDieRE2WtGTTCzX3bY7ZkPtjsJ//gil8zCxEy120Cgo1mr1HCleavU9ibu/lzaXpBIvlV5jZnZre6+yQhT02yDiyrGYjFxIXfPKWRbpudimGXcvXFAxTjw2Qayk9y9bK/+vpkdnCPo7i+a2f1mNrnOaL6wEZrZdiNGHZ8wsxnAQBU14QN+lpkVeVT2T/tymWeEqeNJyPaGesHdv12jrX7JvhP4tpn9lRgEXUP4VT81moCldAzJhPE4UW2leG+pXHttWkPZmwi0OcIiHe2y7l7pS+2pdmKPGMO9xV6Ejj7h5fZmKWKrGZg0gjOAK0prQfsSs5EcnrBIf1EMJN5KFBSoxVgo6p+b2U5eco+pwpsVwxxGsietTsklxt2vqXOMsST3KT8KT5rZPgzdhHsSiieXJQlPhtqjeeIe3tLdr08bW5Cv8JrwCUI5vz9tX0YEWOVysZldwtA5253woMjhAjP7AFGtpDyVz1F6Pct68h6yiH59K1GwYXm6388/IrwQiiCQAqNesdWevUbMbHGGL+pdTQQI5bhTngrcPMLb5JScDltvgUmzcPcvp1F1Ebx1hOdnpDyA8Jpay8x+T6TF3SdTdhZjYfoozA/PAf+mhvnBzO4ZOb3otK+L/HsJd8AViYCMzYjpUs5Ua4Gc1fsRMv1YcHmGoRtpPiKr3LOZ52tlwka9eTrGDcCHckfIDT0gNiZunMWJ3/gpYL9cM9V4YuHvOsuu7+7ndft8Sa5TdFmuvbaJ7D6ELf1VRBmw64h+d/UuSKPhlXpZ/ygdo2evETM7h/BbL0aj7wDWd/e3jC41TH4jwk0P4vvmeptMJx4sV5X6fJdneGH1i2SqmcczU0HMJj9oRd0EMzuTGNmV/R8Xcfc9M+XvIp70N7n7Bsk2d2TOhWFmDxAFD65Nr+uqnvwjFlxmC1l199yQ1eJ4RgQ3bDZoW2+pzXK+joWIupXZF1caNZEzSjKz4+i+2POhjGM08c2dIzGzJ4go0u8Av3T3h2vINlJQ1qPXSJLttPCbZa81sx+6+zuq9o0ie5O7bzbi4XJnN/v2CPnNiAHQK4nB0wTyB08HEbOBZ4gIyY2AQ9390q6CIxiY6cPM1nL3+0ZbGMwcae1LTGkPStvXEK4uufzL3f9lZpjZ/Kk/a+YIuvsrkv3tNURGuRPM7OluF1WhiM3sJCKb2S/S9o7EVK0WaYHsfy1y21YqajP7AeHlUXYjOsYzPWxs9nwdK1CRr8PM9nH3021E0p54xlRmwCuCjoqcKGel7bcR1aZz+B4dfHOrMLPr3H2rETMYqLngnMxxazPctJaTJ2Re4touzABXEZ4BlT7g7r60ma2TZL9oEWxzf47SAmaY2SbuXisQqsQ3CXPNy83siySvkUzZ/zOzrdz9Opj1kM1dEB05s55AFKrNoUlgEkS07B5EvvSpxBpBViQoMas81sy2J1JjvINYcG+HoiaqMr+P2aN7oDqqJz4USvYEolZZkQ0uO5gBeMzMliBCbS8zs6eArExeFq5uWxKKen2iavV1me1u5u6zoo/c/SKLZO857ZZH+/MQF0auCWY9L/lru/tTFlVHcjkA2JTIV4K7/8bMXl4hs3D622nhtut0zZP7nZm9n0gI9ULa/g4xi8nhb16ddKpT21ulvz0vOKcH6NaEov4FkUPiOvIScH2bMGsV/t7vSPvem9HuYsSMbWXCvW9x8uuQvhrY28weIWartXJCu/sZyZRQeI38t+d7jfwPcFox6yJmnF1dNM3sk0RekwXN7O/FbiJ0PSdiFuCDRGDSc8RaxCWEfT0bd3/AzCZ4uN2eama3E7k/qigWPHciMu7dY8UopgZtN8rKNuYAABqTSURBVH1sTdizHia+8ErAu3pZDEz218WJ2mk5qT//Q4RfH+nu59ds6xJC0ZRNNq919+0zZMteGy8Q3/0kzwjCsHD52rpY/U8286tzp7qWAhKKKaJFxN+MnJu4vJDYbd8osvcTrld/TdtLEuaqytmPNfDNTfKrEeHrz6XrbT3ihsoJULqLeIjf7u7rWwTOnO557pCz2XVr2HrvJB4I1xGRgdl+8tZjhJ8N9xrpJJ+z/rKKuz+UHjSk41VmkrOIej05d2bYbyxcZv+LWKT+E+G18e7M3+pUYma6CnGtTCBs5bmzAWCwpo+udmB3P7fb+4ljgDf4UNWRNYgnYtcvOcrFVBQbWATIWZXfkFi42MvMDiWSsVzteXmO9yRWt4tFqWvSvhxO7qTwCJeqKo4BbrRI6WrEtPSLme1Cb/k6Co4j7G9V+zpxFHC7hZ+tEVP6wzLbLSLdypW4s2ZsiXOAqWb2CmKEdj7hIbFThuz/edQBfCEpn8eJwUQOL5rZau7+WwAzW5VM003x4LQaOd7L4jU/X9APr5FzCC+uv5f2/ZSK+zmd49xcJEMdM/uGux9sowS+eKbXBzHbmQAcSJjZViJyY1e1b8DniPwzD7r7Py0SiNXK8w4DHFFbH/JPdDL45ywC9GtRz8wWIZT1a0guNe7ecUTSL6xDxFOnfV3k1wEKf9Ur3T3X1luMXIbl63D3kypkNicWlw4Gvl56azHgzTmjjnScZQml60QY959y+90EG/Ji+BixpnGcZUY2mtm3iGn5HoSp7x9EVGrljWgRtHIqkeHQCDPGvu7eKShkpOzmhG1+EXfPzfFeyBaRpEbY1VchTIpdPakK27L15g21FmFjPpqI0itYjIgCzQkc+QFwfB3buplt5O4zrIE3U1OsT94lAxtR51ysGdxmZicz3IQwWta7ctuNF/UssuvNTyw6XEuYLqqmhz2HrJYU3qQRC3OLEU/zLJIN7C+kxS2rF8DyQXc/llidLvp1UNo3GvMRs5SJDLdT/516Wew2ZSiPg5M/kseiYMI6DF/QG7Xyxwj+bWZ7ErbSIsvZvJmyB6QF3++Y2cXEb5UVUOHuV6SFrcK8c7+nyLcMvkGUSvtZOtYdZvba7iKz2h2mNCwW+ysVPJFYbWPifqhbmLYfmeR6sa1/hbCl7+T1g+7KD7WOZNr1my7eRl/Gwkbd641kkYXuAEq+k8C3ci/oTk+z3CecmU1y97/ktFOS6TlkNcluTSy4fKf01jPABe7+m4z230iYP5YnpuErA/fmjFiSfKfRfO7ocj13vzOnnQ6yRxFulGekXXsS7l+fypD9DrAQMYs4mXg43OLu78lse23inN/o7mea2SpEQqgvZ8ieUp4ZphnY+e6eU41nAuFNNIXhuT4q60SOXEtI+2plwBtxvMp7wsxuAu4kBjo/Hvm+57lS9pxJrhfbupn9ilic/R5RvmzYIl7VOsZobea0XTrGfUTA3cP0sHhbMBaluDreSDmyaYHneCLarBevj55z/gLzmNn3qFGLz4eHrM7HkAtPZb+T7NVm9v2cC2AUjiCCei5Pi4GvJyMKKo0o9wJWMbOfld5ajDx7PoT74vxEbuIzPC/arGAnYANPdS3TNPd2wqxQxRbuvl4yiX3BzI4Bsr1AkmnoQ6ndJYnqJZVKOvF7M/uWu38gyV5IaTZSwQWEN89d5HtsFPSc433EbG0eYnScc0/sQiyobU/YqXthr3StlfkbkTej64K9uz9iZlsRPv6nWvhvL1LR3ueIlAwrAiMfgJXrGJ3uQ4u0zU96/gi30oEgCx98CZ07R/xdhIgqypHdmnCnu5pYkHuIMEHktr0UMWW7naHqLktlyl4EvJ2oHg7xUMsts9RzvwnlfiLhZ3ll8cqUvS39vYOIgqLof4XcyqnPNwKvK702IgrU5p7vNYhK8Q8Qi0/b5V4j5d8l/W53ZsrenP7eRMwk5gceqNHnq4gH0lLpd7oZ+FoN+aOJGdCtwG415LK+3yiySxOzjz8TM6fTgZdlyn6+9Po0MXhZoEbbG3fYt0qm7Inpfvhgel1F2Ol/Bnwjo98XAL9O28sD12e2+9kez/NmqY/nEs4FdxNeH48DO9Q4zlbE+gPEwmLW+Rp2jF4vlhqd7PlGIp7ca5a216CHemM99rvnWnxN+p2U7PsJm+3GxStT9nLiQXg84R1zLJFlLfc7F2GuRZ/fyCi1JbscYwKxIv57YpR3H/CWCpk9iQfb9wl3zIeA3TPb+yxh+9yNIdepI2r09/b0971EMvlKJUpUAi9euxHpCU4s9mW2+2XCo2ng13I/X0Qa38VK22uTWc8w6YAJpe2JxOBgAvCrCtmZhNmgfD/mPsy3BBZO/+9DjK5XzpC7jVhYfxvhkLBZ2r9WuR8Vx+j5AVN+jVVSpiUIw/4MYsqROz2c10vZrtz912mql4U1y/nbpBZfk343yar2RmI6fRBxQS4G1Kn0fQ3wmjSNv5QYJe5OjLq6YpEQfV/C7noZUfpshkXioBsZyiM8Gx624asYSuzzCc/0+nD3InDhHDP7OTE6rGN2mWhmyxGzp09XfTix64jt24kFyF2J6yXH9fQm4LzkaZOVA8fMPu7uR9sooffexU48wqQ1G57vqnYkkVBqZ2KR8DQyro/EksRAovh9FiZmUi+aWdW60/Pu7mZW3I8LV3y+zLeB9ZN3zEcJE+xpxKyxGxM9hXqb2eHufhOAR4RzbttvJkbjM5LsH8ysdpDVwBV1wxupJ6+PEj8hpqUnUyO8ONGkFl+TftfOqmazh0HD0MLJ58zst8Cn3f2KirbNw9fzPcSi7dFmNjOz38cR5/lTXsqTnC7MnBDjTRgKp67r9bEFpYexmeEZYdyJw4lItevc/VYLf+auC7feH4+mrxHJs+7yNNTKoLBD17kHCjYHHiVmWjdD9xSho+HuF6ZBx6WEl8+b3f3XmeJHAzPTQ7nwlz8yKd3LK2TPtkhlu4RFqoP9yB/wvZCU/JsIF7/vpWu8ivLawchQ99zfrMkDZhaD9KPeBHi0GBmZ2TuJaeIjwGHdFE/pGE29PqZ7zQigEfI91eJr0m9rkFVtlONNANYlFvi6VpWwCIv9AOEP/R4PV7+BZxlr6PXxQyIvyUyGHsbebXTZL6xBRR2LaLetPS2g1mx3I6+ZlTBdB9sR53Y9YuHzTHe/J1N+5Ch+WyIx1MOQ5/WRjrMcYdaD+I1zF/exCMJ6Q9q81N0vy5S7mshRvi/xcHicWLup8nR5kSFPjQWBIrjIiAFn5SzZzA4hvD62I9Zv9gN+5F0q03Q8zgAV9Qzgv9z9rxY+nj8mFhA2AF7p7pWjU2teyeIw4kepMzrdxt2vtFEiKz0vorJ1mNn+7v7dis+8jpgaXu+Rg3dV4OCcm9DCJ/hLzJ6gKCdt550M9/qYQNgAc0LX7yWqmde6kJuYEUrHaFJR5/tENN9FDL82c9zzfgksS0T1neXud1fJjJCfn1DYXyHs8sdnyLyr2/ueUTYtHWcFhjIdFrJZKSEsgqI2JX6vW3PNY0luryRzrUWyta1rzLoaUXrAFEFkWQ+YYccYoKKe5ddpkVjpL+5+WNrOTW34A2LKll3JYoR87dGpmX3B3T9vnSMr3btEVKap1YrufkLavpkwmUDYXbvWpUsyCxFml8nuPi0pwDXd/edVsv3CIhzavV560+uIhZOvE7bafYmFyc9lyN5J3DhFro+liHwIOYr6J0TO7VpVM8xsV3e/YDQFlKN4Ol3HNa7tz4/SbtaaQlI+byfWEBYjFHbXgqlJQe9MKOkphGnvFHf/fWabE4g8KLk26ZHyX079vYchs4Ln2Mctcst/jvCCMsK+fLi7VxYPSOaGfyVb+BrEYuBFuTPkfpDuqfLDqV4FdB/c6vDdJNcuYuX/teX3ah5recLX9XeEvWlg/S61OaEHmeuJxOzF9kwiteFkojZdzjHOAj5enCPCBz3L26QP33kq4df7MGGiuoN8j5Pp6e9dI/dlyDbx+vglsSJ/CaF4fgb8bIzO1xXEKHpCeu2T+zv3sQ+vIkb0z1d87jRiQev/Aes2aO86YL4eZe8H5m8g+7LS9ssIc2TWtZnuoxXStf0TwhQ4Fr/P/oQ30sNEuoCHiLwftY4zyMXEM4kAjicIQ/y1ABbJb7IWE232ShbHk5/+srCLz4bnTXkesggLPovwY86Zeszn7o+Wtq9z9yeJElm5iwirufvulgIDPBb3elr46YFTgA+4e/FbbUX4ueZEUT2XPBh+Y2YHEu55VQEJQDOvD2qWZivokxfEfoSNushxcj0VCXesD5WxzeyVxMh0N6LU2lmEyaob+xD21oOAD5UuqboFnx8Erk/nr1yurdJkk2TnpWTqqcGTRJRuwTPkl5nrtEh+Rw996IVDiAfjE00OMshcH180syuA5QjDf3FxzkPYqnP4Bj1WskiUM24tQCyAzCAvX/BaRDTWAcD3ksfKjz0lPR+FJcsb7n5gaXMSeTxvUYizWCVejd4u7F54sVDSAB5JeF7IlD2IGLV8iIiQ3IaKXMMFZnY6ERx0rbvfV6fD3ntincZeEB6Ra7lubQVfTX/fQtiZC8+gPYkAlhxOIZTz9p65GOfu/apf+dv0mofOOci78U/C6+MKhtvlu7kVFpGUDxA1E88n7o03EYFSOZhFLp29iaRjMDb1PCHOVd0Mh7PR6nzUADZUyWIrYvU0t5JFp2MtQSjbHWrKLUkEj+zt7qMmSDKzMwjb6kkj9u9P2GArU52a2RsIf961CReoLYnct1fV6XMdbKgKzzuJ1e0ziZthd8K295HRZPvU/uuJmdNrCA+O24k8y6Mmg7KGFVqaekGkY6xKXBebpT7cCHzY3R/MkL3N3adW7Zub6GU9YDRbfkm20qbfZJG8KRaFO04lBgNZD6eOx2mzok4G+C2JhYPXEKGzN3mqwtzD8eYlbL9Z5bjSD7w7sAPhu3qWu5/T5fMvJ6rJPEdycCciC+cnKmGMOmJKC64/cvfrLQJtNiOUzk1Np01VJC+C0XDvEiDUJxNCoTg3IXLC/A+R63mtLp9f2XvPiTLyWLW9IJLcTUQF8KKC+R5EBsJXjy41S/ZeYOdCqVskg/qFu7+yi0w/srk1wiLHxseZPclabv7vpu33koO7kF0EwN3/0d9edW3zFsKuPyynS7eHUyfGIjKxCdeVXsd7jUoWMJs9cAJRnPLsTNmHiZHd2UTO3Ge7S4BHFZYtzGwbhmq8XejuV2Y0+WvgqxZ+pmcTo7usKstNcffXV39qVBqbENJUeGFiRHotsIlXV7Q5j5Ru08zOcffKRO4d2h3pBVHUA8xlIXf/YWn7dIu81jl8GLjKzMr5qPevkNkl/T0g/S3a7skLo0fOIMwuuxAP1HcBXbNMmtnZ7v720R40OQ8YK+XgBurm4H4VYe5cKjbtL8A768yeGjBvP2akrR5RN8WGpx19AXgkV9lbhzzOllE2qCkWqRX3SK/CDHGm50d/NWl7GSJEODtjYJ9MCF8nZh7PEQty1xBpR0f1n7fhKT6zUrGOkD+NCAT6BWEOq+WLnI7xZcLj5McMmYqWJEbmeIULVnpQFLOG+zw/kGu272s1iks0wVIQmZUKeJjZre4+agUWM1vO3f9oPZYBS8e4mYgM/lnpd7/bK4K40uduICJzf5m2tyZK7G1RJdsUMzuS8Pi4gMxYjo7UdRMZi1f6Uj8b7VXzWMsQT/9dgJfXkOs5+Uwfz8OGxKj+xTFqr+eMgenz8wPvJkZYB/bQ/qLEQvMjwHMVn53R6f8abf2H8Bx4hihyULyeAf6eeYyHurw6umABHy/9/7YR7x2Z2e5MYMvS9haMnQvnTenvJcRsZEPgt2PQbpHcrZyUqTIz5Gify5XtQ7+zr41ur7aaPr5a/ZFqzOztxOjmKmJ6eZyZfczdf5oh3iT5TM9YhK3vSIyotyX6ftig200s7e5nW1R+xt1fsAij7UpTE0Jy53sNMap+mPBqqHLDXN+iKrUxe4Vq94rFRO+DF4RnlnQbwR5EzguIKtblIKgdyMvB/R7gFItq3kaM6seq8Ov/S+1+lHBNXIww44xKacG3qK846y3yXQN7zsENPGhmn2V4BGnlgm8/6PEamY1WKmofnoB/QSJKL6vE0Qg+TcnemRZCLidCb6v60CT5TG0swkz3JJLo30JMp6d5hm28j9TOGDjChPAF78GEQCxKfY0IkMlyB/Qu3jeDxprlsbFR/u+03RF3n048qBZP23WyBfaEmS1A2KRfQQSOfM8z1zbcvXa2uA78D+FhswLho38pQ7b6KvYjskgW6R+uZYwebNagks+w46TheSsxs12J0fV87r6KmW1AhI3mehIMSyhkEZDRNRmL9Sn5TF3M7Eoib8Q5nhkiP4A+bEyMhtclIksnAW/1LiW2zOw/DAU+9DpaKi7oZRh+MefWehxTrEEem7IteaRdOdfOnGYwuzH7zZ9bJ7I2ZnYWkY71WmLG94i7H1RDfgJwj3fx5JkbMbNf0KGSj2emCiho5Yi6xGFEEparANx9ZnJjyuViM7uEIfep3YmRXzdGppDstexQLXyM3Js6YWYHE0VLZxCukNkZA/thQkimj8OIgI9ZOSDIi4gcDyaURs27Ayd6uG2eY9VpYbuZbBYYXWwY5xMznemMXTDU2sUAx6JEXVY5vQKPPBv3d1qk70aHgdPI445FDu4mrOh9cJtsu6L+t7v/zYZHUGdPAdz9YxZZ8Ip0oye6e1fbqbv/wBomn5kDWZGIAl2LePJfTyjuP5BfM7EJBxOJp3JDgsebCWY2MZlptgWmld7rek/1yWSzotcM2uoDsx7Yae2il2MsCdyTfIvL4efdFGZ54PQFIvFXLn3Jwd2Qi8zsDZ4KEPRK2xX1PWa2F3FjrE6EJ99Q5wAeaUnPtVSUMlPmRTNb2czmc/fna/d6DsPdDwGwKMg7lfAi2Bc40cyedve1B9yFR8mvntMGGuexacgNZvYqd79rDNoqWH/E6H/B0swg18T12bqNeikwxMwO9nqBIssy5Dq6Fz24jvaB2pV8OtF2G/VCxILgrFyuRD28f1XIbQYcRYwGjyBWe5cm4vvf6e4XZ7R9GhEg00vymTmStDi1ORENujlRi/Au709Fk07tFYEA6xDmlgupmZt5vEjXWJHH5tm0bw1gEa+Z1L+Htn9FLOo9RJyv4uZvq6moLzTxFbceo0+bYpFq+U3Uq+QzG60eUXuEin6a/Fp2BccTbk6LE/lrd3T3m8xsLWI0VKmoaZZ8Zo7CzE4klOUzxBTxBqIS96AXNYvz+rv0mi+9Wo+n+nkj9g08KCmx4xi101fSw+04YgA0HxEt/Gzd0WXNNptGnzblUSL+otGIuJUj6qaLAFZK3m5m93opf0IvUWxzOxbpXJcmPD1uIEK5G19cYrBY5JYp59topZdMgZndRviR/4Qwsb0TWMPdP9lFppx0ayGGl8PqakLoR/RpU6xBJZ8ybR1RN10EaFyU0sY5+cxY4u47WKwOrUPYpz8KrGtmfyVCuess4NTGoqTV29z96bS9JHFjbT/IdudUzOyNwDFEQY3HiTwh9zKUX6a1uPsDZjbB3V8ETrWo0zmqom7og92vHNxNKKIRG80W26qomy4C9MMFqnbymTmZNHq+28yeJhbE/kZ8902pt9LeC5MKJZ368lQaLYrOHEFkV7zc3Te0SBO7zzj3KYd/pgXrmWZ2NPBHBpgXuh+uo33oQy1/6dFopemjzDguAtROPjOnYmYfIkbSWxAr0zeUXnd5D5Wya7Y/nYj8/F3aXhk4r9eFo7kdS3mrLaqUbOju/7FSjdK2kn7XPxMjyw8Ta0jfcvcHxrVjA8QihXCnjIG1ZuZtHVG3YRGg8Bv9o0W+jz8QaRLnRqYQdsMPe80isX3i08B1ZnY1Met5DcN9k8VwnrbIrXwNcIaZPU7JM6mtuPsjyaTYt5HmHMAhpf8XICJKc6smzaKVI+qWLALsQvjHrsRQ8pkvuHvXhU7RG8nPfbO0OfBiCXMyFvU3/48wG+xNjEzPaGvAUFr/+DxwINFnI5TVcYMMe28rZnaLu29aS6alirov+SN6bLucfOYuIvlM7SegyCfdyHsDq7r74WY2GVjW3WuFKb8USFGzl3uzYg9jSvKX35FIMvZQ2rcq8G3gYnf/ejf5ORkzK8/C5yEyRH7TM6tMzTpOGxX1eNI0+Yyoj5l9m/DU2cbdX5m8Pi6dG9cD+oFFRZy3+BhkzesHybNju5GzpGQGuXRudpdNAS9FitcXCA+Qw717kezZaK2NehxplHxG9MSr3X2jdEMXXh9zRODLOPEP4K7k1liOmh14sdYembeTKcvd/2KRSniuxefmfNTjTD+Sz4h6/DtN6Ys82JMY7gsvhnMuQ7mV5wS65cuZK3PpWLOc5bMfT6aP4VhUNClGKUbULfwnY+sk/5LCzPYm0oVuDHyfqI33GXf/STc5MWcw4p4a9hawgLvPdaNqa5CzvOPxpKhFG0h5WLYlbt4r3D23zNJLBjN7E5Hi9IS0fTNR3AGiFmNOiTkxBpT92s3sBOAv7n5Y2p6V4iKXcY/cESKxNPDPFND0hNUrEPFS4eNENseC+YFNgK2B949Hh8SoTLCofwoxALmy9F5tk7Ns1GLcMbPPE0l61gROBeYFTifSrYoh5nP3R0vb1yXf6SeTb7VoD33NWS7Thxh3LMpXbQjMKFy1yqH7IjCzB9z9FaO891t3X22s+yRGp585yzWiFm3geXd3Myu8PjQ67MzNZvY+dz+pvNPM9kdupK2jnznLNaIW446ZHQKsTmRM/BKwH/Ajdz9uXDvWMlJGwf8l8hoXI7KNCVv1f7v7n8erb2KwSFGLVmBm21Equebul41zl1qLmW3DUO7pe9z9ym6fF3M+UtSiVaTkTE+quowQQ8g9T4wbZraZmV1lZuea2YZmdjdRDuzPZrbDePdPiLagEbUYN1INvaII8YmMKEI8NyfrEaIOGlGL8WSiu1+aQsX/VKySu/t949wvIVqFFLUYTxoXIRbipYBMH2LcKCXrKSe/grk4WY8QvSBFLYQQLUemDyGEaDlS1EII0XKkqIUQouVIUQshRMuRohZCiJYjRS2EEC3n/wO6vlJ+BY84/gAAAABJRU5ErkJggg==\n",
      "text/plain": [
       "<Figure size 432x288 with 1 Axes>"
      ]
     },
     "metadata": {
      "needs_background": "light"
     },
     "output_type": "display_data"
    }
   ],
   "source": [
    "speed[\"locator_street\"].value_counts().plot.bar()"
   ]
  },
  {
   "cell_type": "code",
   "execution_count": 23,
   "metadata": {},
   "outputs": [
    {
     "data": {
      "text/plain": [
       "Saline St         6\n",
       "Melwood Ave       6\n",
       "Boundary St       5\n",
       "Parkview Blvd     5\n",
       "Gold Way          5\n",
       "Venture St        4\n",
       "Jacob St          4\n",
       "Webster Ave       4\n",
       "Maytide St        4\n",
       "Beechwood Blvd    4\n",
       "Finance St        4\n",
       "Mission St        4\n",
       "Spokane St        3\n",
       "Edmond St         3\n",
       "Grandview Ave     3\n",
       "Muriel St         3\n",
       "Parkfield St      3\n",
       "Darlington Rd     2\n",
       "Heberton St       2\n",
       "Mossfield St      2\n",
       "Black St          2\n",
       "Summerset Dr      1\n",
       "Name: locator_street, dtype: int64"
      ]
     },
     "execution_count": 23,
     "metadata": {},
     "output_type": "execute_result"
    }
   ],
   "source": [
    "speed[\"locator_street\"].value_counts()"
   ]
  },
  {
   "cell_type": "markdown",
   "metadata": {},
   "source": [
    "No streets seem to have a ton more speed bumps than the rest."
   ]
  },
  {
   "cell_type": "markdown",
   "metadata": {},
   "source": [
    "After looking over the data, the negihborhoods with the most speed bumps have the roads with the most speed bumps, as you would expect. \n",
    "\n",
    "Based on number of speed bumps, the safest neighborhood for kids in Pittsburgh is Squirrel Hill South with the safest road in the neighborhood being Saline St.\n",
    "\n",
     "Final Conclusion: Through our individual conclusions and group consesus. We believe that Squirrel Hill South is the safest neighbhorhood for children. The reasons are because it has the largest number of speed bumps, fewest fire incidents per person and has a lot of playground equipment."
    "In conclusion, I think Squirrel Hill South is the best neighborhood in Pittsburgh. It is the safest neighborhood as far as speed bumps go and also has fewer fires. There is also a large amount of playground equipment for kids."
   ]
  }
 ],
 "metadata": {
  "kernelspec": {
   "display_name": "Python 3",
   "language": "python",
   "name": "python3"
  },
  "language_info": {
   "codemirror_mode": {
    "name": "ipython",
    "version": 3
   },
   "file_extension": ".py",
   "mimetype": "text/x-python",
   "name": "python",
   "nbconvert_exporter": "python",
   "pygments_lexer": "ipython3",
   "version": "3.8.3"
  }
 },
 "nbformat": 4,
 "nbformat_minor": 4
}
