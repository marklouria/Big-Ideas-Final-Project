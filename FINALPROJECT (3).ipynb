{
 "cells": [
  {
   "cell_type": "code",
   "execution_count": 4,
   "metadata": {},
   "outputs": [],
   "source": [
    "import pandas as pd\n",
    "import numpy as np\n",
    "import matplotlib.pyplot as plt\n",
    "\n",
    "fire_Incidents = pd.read_csv(\"fireIncidents.csv\")"
   ]
  },
  {
   "cell_type": "markdown",
   "metadata": {},
   "source": [
    "Making a query mask to filter out just the neighborhoods with Passanger Vehicle fires"
   ]
  },
  {
   "cell_type": "code",
   "execution_count": 5,
   "metadata": {},
   "outputs": [],
   "source": [
    "fire_data = pd.read_csv('fireIncidents.csv')\n",
    "passenger_mask = fire_data['type_description'] == \"Passenger vehicle fire\"\n",
    "rubbish_mask = fire_data['type_description'] == \"Outside rubbish, trash or waste fire\"\n",
    "\n",
    "\n",
    "vehicle_Fires = fire_data[passenger_mask]\n",
    "rubbish_Fires = fire_data[rubbish_mask]"
   ]
  },
  {
   "cell_type": "code",
   "execution_count": 3,
   "metadata": {},
   "outputs": [
    {
     "data": {
      "text/plain": [
       "Mount Washington       40\n",
       "Homewood South         28\n",
       "Squirrel Hill South    27\n",
       "Hazelwood              25\n",
       "Homewood North         23\n",
       "                       ..\n",
       "Arlington Heights       1\n",
       "Chartiers City          1\n",
       "Hays                    1\n",
       "Regent Square           1\n",
       "Swisshelm Park          1\n",
       "Name: neighborhood, Length: 85, dtype: int64"
      ]
     },
     "execution_count": 3,
     "metadata": {},
     "output_type": "execute_result"
    }
   ],
   "source": [
    "vehicle_Fires['neighborhood'].value_counts()"
   ]
  },
  {
   "cell_type": "markdown",
   "metadata": {},
   "source": [
    "The five safest neighborhoods for passanger fires is Hays, Swisshelm Park, Chartiers City, Arlington Heights, and Regent Square"
   ]
  },
  {
   "cell_type": "code",
   "execution_count": 5,
   "metadata": {},
   "outputs": [
    {
     "data": {
      "text/plain": [
       "Hazelwood                    34\n",
       "Brookline                    30\n",
       "South Side Flats             26\n",
       "Carrick                      25\n",
       "Central Business District    20\n",
       "                             ..\n",
       "Glen Hazel                    1\n",
       "Strip District                1\n",
       "Regent Square                 1\n",
       "Bedford Dwellings             1\n",
       "Upper Hill                    1\n",
       "Name: neighborhood, Length: 83, dtype: int64"
      ]
     },
     "execution_count": 5,
     "metadata": {},
     "output_type": "execute_result"
    }
   ],
   "source": [
    "rubbish_Fires['neighborhood'].value_counts()"
   ]
  },
  {
   "cell_type": "markdown",
   "metadata": {},
   "source": [
    "The five safest neighborhoods for rubbish and trash fires are Windgap, Friendship, Lower Lawrenceville, Regent Square, and Upper Hill"
   ]
  },
  {
   "cell_type": "code",
   "execution_count": null,
   "metadata": {},
   "outputs": [],
   "source": [
    "METRIC #2 - Number of Alarms (The lower the number of alarms, the safer the neighborhood)"
   ]
  },
  {
   "cell_type": "code",
   "execution_count": 3,
   "metadata": {},
   "outputs": [],
   "source": [
    "alarm_data = pd.read_csv(\"fireIncidents.csv\")\n",
    "alarm_mask = alarm_data['alarms'] == 0\n",
    "number_of_alarms = alarm_data[alarm_mask]\n"
   ]
  },
  {
   "cell_type": "code",
   "execution_count": 7,
   "metadata": {},
   "outputs": [
    {
     "data": {
      "text/plain": [
       "<matplotlib.axes._subplots.AxesSubplot at 0x7fbc7770b7c0>"
      ]
     },
     "execution_count": 7,
     "metadata": {},
     "output_type": "execute_result"
    },
    {
     "data": {
      "image/png": "[encoded data removed]",
      "text/plain": [
       "<Figure size 432x288 with 1 Axes>"
      ]
     },
     "metadata": {
      "needs_background": "light"
     },
     "output_type": "display_data"
    }
   ],
   "source": [
    "number_of_alarms['neighborhood'].value_counts().head().plot.bar()\n",
    "#plt.bar(neighborhoods,number of alarms (best and worst))"
   ]
  },
  {
   "cell_type": "code",
   "execution_count": 8,
   "metadata": {},
   "outputs": [
    {
     "data": {
      "text/plain": [
       "<matplotlib.axes._subplots.AxesSubplot at 0x7fdd1efbd250>"
      ]
     },
     "execution_count": 8,
     "metadata": {},
     "output_type": "execute_result"
    },
    {
     "data": {
      "image/png": "[encoded data removed]",
      "text/plain": [
       "<Figure size 432x288 with 1 Axes>"
      ]
     },
     "metadata": {
      "needs_background": "light"
     },
     "output_type": "display_data"
    }
   ],
   "source": [
    "number_of_alarms['neighborhood'].value_counts().tail().plot.bar()"
   ]
  },
  {
   "cell_type": "markdown",
   "metadata": {},
   "source": []
  },
  {
   "cell_type": "markdown",
   "metadata": {},
   "source": [
    "The neighborhoods with the most alarms  (the safest) Glen Hazel, Oakwood, Regent Square, Arlington Heights, and East Carnegie"
   ]
  },
  {
   "cell_type": "markdown",
   "metadata": {},
   "source": [
    "CONCLUSION - The safest neighborhood according to this metric would be Regent Square as it has the least number of passanger and rubbish fires. Additionally, it's the neighborhood least number of firefighters and vehicles dispatched."
   ]
  }
 ],
 "metadata": {
  "kernelspec": {
   "display_name": "Python 3",
   "language": "python",
   "name": "python3"
  },
  "language_info": {
   "codemirror_mode": {
    "name": "ipython",
    "version": 3
   },
   "file_extension": ".py",
   "mimetype": "text/x-python",
   "name": "python",
   "nbconvert_exporter": "python",
   "pygments_lexer": "ipython3",
   "version": "3.8.3"
  }
 },
 "nbformat": 4,
 "nbformat_minor": 4
}
